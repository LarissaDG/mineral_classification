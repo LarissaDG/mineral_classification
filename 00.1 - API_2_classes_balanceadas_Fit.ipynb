{
  "cells": [
    {
      "cell_type": "markdown",
      "metadata": {
        "id": "iHtngxua5RRb"
      },
      "source": [
        "# Classificação de Minerais #"
      ]
    },
    {
      "cell_type": "markdown",
      "metadata": {
        "id": "hLOcwGyCMh2o"
      },
      "source": [
        "**Business Understanding**"
      ]
    },
    {
      "cell_type": "code",
      "execution_count": 1,
      "metadata": {
        "id": "WI447NXLysUL",
        "scrolled": true
      },
      "outputs": [],
      "source": [
        "# importar os pacotes necessários\n",
        "import os\n",
        "import re\n",
        "import cv2#TIRAR\n",
        "import shutil\n",
        "import numpy as np\n",
        "import pandas as pd\n",
        "import seaborn as sn #TIRAR\n",
        "from random import randint\n",
        "import plotly.express as px\n",
        "from keras import backend as K\n",
        "import matplotlib.pyplot as plt\n",
        "import matplotlib.image as mpimg\n",
        "from keras.models import Sequential\n",
        "from keras.preprocessing.image import load_img\n",
        "from keras.preprocessing.image import img_to_array\n",
        "from sklearn.model_selection import train_test_split\n",
        "from keras.preprocessing.image import ImageDataGenerator\n",
        "from keras.layers import Dense,Conv2D,Flatten,MaxPool2D,Dropout"
      ]
    },
    {
      "cell_type": "code",
      "source": [
        "!wget https://github.com/LarissaDG/api/raw/main/Emulate.zip"
      ],
      "metadata": {
        "colab": {
          "base_uri": "https://localhost:8080/"
        },
        "id": "Jx18SR5rKA5b",
        "outputId": "89c0b831-ef0a-435a-9134-416524aef963"
      },
      "execution_count": 2,
      "outputs": [
        {
          "output_type": "stream",
          "name": "stdout",
          "text": [
            "--2022-02-08 14:02:32--  https://github.com/LarissaDG/api/raw/main/Emulate.zip\n",
            "Resolving github.com (github.com)... 140.82.113.4\n",
            "Connecting to github.com (github.com)|140.82.113.4|:443... connected.\n",
            "HTTP request sent, awaiting response... 302 Found\n",
            "Location: https://raw.githubusercontent.com/LarissaDG/api/main/Emulate.zip [following]\n",
            "--2022-02-08 14:02:32--  https://raw.githubusercontent.com/LarissaDG/api/main/Emulate.zip\n",
            "Resolving raw.githubusercontent.com (raw.githubusercontent.com)... 185.199.111.133, 185.199.108.133, 185.199.110.133, ...\n",
            "Connecting to raw.githubusercontent.com (raw.githubusercontent.com)|185.199.111.133|:443... connected.\n",
            "HTTP request sent, awaiting response... 200 OK\n",
            "Length: 6607349 (6.3M) [application/zip]\n",
            "Saving to: ‘Emulate.zip’\n",
            "\n",
            "Emulate.zip         100%[===================>]   6.30M  --.-KB/s    in 0.09s   \n",
            "\n",
            "2022-02-08 14:02:33 (69.3 MB/s) - ‘Emulate.zip’ saved [6607349/6607349]\n",
            "\n"
          ]
        }
      ]
    },
    {
      "cell_type": "code",
      "source": [
        "!unzip /content/Emulate.zip"
      ],
      "metadata": {
        "colab": {
          "base_uri": "https://localhost:8080/"
        },
        "id": "sknt3R4hKJkp",
        "outputId": "e13cb400-5815-4142-b519-e75e48faf088"
      },
      "execution_count": 3,
      "outputs": [
        {
          "output_type": "stream",
          "name": "stdout",
          "text": [
            "Archive:  /content/Emulate.zip\n",
            "   creating: Emulate/Andalusite/\n",
            "  inflating: Emulate/Andalusite/andalusitemagmatica(10).jpg  \n",
            "  inflating: Emulate/Andalusite/andalusitemagmatica(11).jpg  \n",
            "  inflating: Emulate/Andalusite/andalusitemagmatica(12).jpg  \n",
            "  inflating: Emulate/Andalusite/andalusitemagmatica(13).jpg  \n",
            "  inflating: Emulate/Andalusite/andalusitemagmatica(2).jpg  \n",
            "  inflating: Emulate/Andalusite/andalusitemagmatica(3).jpg  \n",
            "  inflating: Emulate/Andalusite/andalusitemagmatica(4).jpg  \n",
            "  inflating: Emulate/Andalusite/andalusitemagmatica(5).jpg  \n",
            "  inflating: Emulate/Andalusite/andalusitemagmatica(6).jpg  \n",
            "  inflating: Emulate/Andalusite/andalusitemagmatica(7).jpg  \n",
            "  inflating: Emulate/Andalusite/andalusitemagmatica(8).jpg  \n",
            "  inflating: Emulate/Andalusite/andalusitemagmatica(9).jpg  \n",
            "  inflating: Emulate/Andalusite/calamita(1).jpg  \n",
            "  inflating: Emulate/Andalusite/calamita(17).jpg  \n",
            "  inflating: Emulate/Andalusite/calamita(18).jpg  \n",
            "  inflating: Emulate/Andalusite/calamita(19).jpg  \n",
            "  inflating: Emulate/Andalusite/calamita(2).jpg  \n",
            "  inflating: Emulate/Andalusite/calamita(20).jpg  \n",
            "  inflating: Emulate/Andalusite/calamita(22).jpg  \n",
            "  inflating: Emulate/Andalusite/calamita(23).jpg  \n",
            "  inflating: Emulate/Andalusite/calamita(24).jpg  \n",
            "  inflating: Emulate/Andalusite/calamita(48).jpg  \n",
            "  inflating: Emulate/Andalusite/calamita(49).jpg  \n",
            "  inflating: Emulate/Andalusite/calamita(50).jpg  \n",
            "  inflating: Emulate/Andalusite/calamita(53).jpg  \n",
            "  inflating: Emulate/Andalusite/calamita(54).jpg  \n",
            "  inflating: Emulate/Andalusite/calamita(55).jpg  \n",
            "   creating: Emulate/Lazulite/\n",
            "  inflating: Emulate/Lazulite/lazulite(27).jpg  \n",
            "  inflating: Emulate/Lazulite/lazulite(28).jpg  \n",
            "  inflating: Emulate/Lazulite/lazulite(29).jpg  \n",
            "  inflating: Emulate/Lazulite/lazulite(30).jpg  \n",
            "  inflating: Emulate/Lazulite/lazulite(32).jpg  \n",
            "  inflating: Emulate/Lazulite/lazulite(33).jpg  \n",
            "  inflating: Emulate/Lazulite/lazulite(34).jpg  \n",
            "  inflating: Emulate/Lazulite/lazulite(35).jpg  \n",
            "  inflating: Emulate/Lazulite/lazulite(41).jpg  \n",
            "  inflating: Emulate/Lazulite/lazulite(42).jpg  \n",
            "  inflating: Emulate/Lazulite/lazulite(43).jpg  \n",
            "  inflating: Emulate/Lazulite/lazulite(49).jpg  \n",
            "  inflating: Emulate/Lazulite/lazulite(50).jpg  \n",
            "  inflating: Emulate/Lazulite/lazulite(51).jpg  \n",
            "  inflating: Emulate/Lazulite/lazulite(61).jpg  \n",
            "  inflating: Emulate/Lazulite/lazulite(62).jpg  \n",
            "  inflating: Emulate/Lazulite/lazulite(63).jpg  \n",
            "  inflating: Emulate/Lazulite/lazulite(64).jpg  \n",
            "  inflating: Emulate/Lazulite/lazulite(65).jpg  \n",
            "  inflating: Emulate/Lazulite/lazulite(68).jpg  \n",
            "  inflating: Emulate/Lazulite/lazulite(69).jpg  \n",
            "  inflating: Emulate/Lazulite/lazulite(70).jpg  \n",
            "  inflating: Emulate/Lazulite/lazulite(71).jpg  \n",
            "  inflating: Emulate/Lazulite/lazulite(72).jpg  \n",
            "  inflating: Emulate/Lazulite/lazulite(73) (1).jpg  \n",
            "  inflating: Emulate/Lazulite/lazulite(73).jpg  \n",
            "  inflating: Emulate/Lazulite/lazulite2016(23).jpg  \n"
          ]
        }
      ]
    },
    {
      "cell_type": "code",
      "source": [
        "!wget https://github.com/LarissaDG/api/raw/main/Dataset.zip"
      ],
      "metadata": {
        "colab": {
          "base_uri": "https://localhost:8080/"
        },
        "id": "lzceAks3Bi7L",
        "outputId": "fe389be6-b332-41ba-994e-b9e15bb844be"
      },
      "execution_count": null,
      "outputs": [
        {
          "output_type": "stream",
          "name": "stdout",
          "text": [
            "--2022-02-06 18:58:43--  https://github.com/LarissaDG/api/raw/main/Dataset.zip\n",
            "Resolving github.com (github.com)... 140.82.114.4\n",
            "Connecting to github.com (github.com)|140.82.114.4|:443... connected.\n",
            "HTTP request sent, awaiting response... 302 Found\n",
            "Location: https://raw.githubusercontent.com/LarissaDG/api/main/Dataset.zip [following]\n",
            "--2022-02-06 18:58:43--  https://raw.githubusercontent.com/LarissaDG/api/main/Dataset.zip\n",
            "Resolving raw.githubusercontent.com (raw.githubusercontent.com)... 185.199.109.133, 185.199.110.133, 185.199.108.133, ...\n",
            "Connecting to raw.githubusercontent.com (raw.githubusercontent.com)|185.199.109.133|:443... connected.\n",
            "HTTP request sent, awaiting response... 200 OK\n",
            "Length: 56044500 (53M) [application/zip]\n",
            "Saving to: ‘Dataset.zip’\n",
            "\n",
            "Dataset.zip         100%[===================>]  53.45M   209MB/s    in 0.3s    \n",
            "\n",
            "2022-02-06 18:58:44 (209 MB/s) - ‘Dataset.zip’ saved [56044500/56044500]\n",
            "\n"
          ]
        }
      ]
    },
    {
      "cell_type": "code",
      "source": [
        "!unzip /content/Dataset.zip"
      ],
      "metadata": {
        "colab": {
          "base_uri": "https://localhost:8080/"
        },
        "id": "znIqYT4r6LxY",
        "outputId": "58347b80-6516-4ec9-e885-c3c6fd93537c"
      },
      "execution_count": null,
      "outputs": [
        {
          "output_type": "stream",
          "name": "stdout",
          "text": [
            "Archive:  /content/Dataset.zip\n",
            "   creating: Dataset/Andalusite/\n",
            "  inflating: Dataset/Andalusite/andalusitemagmatica(10).jpg  \n",
            "  inflating: Dataset/Andalusite/andalusitemagmatica(11).jpg  \n",
            "  inflating: Dataset/Andalusite/andalusitemagmatica(12).jpg  \n",
            "  inflating: Dataset/Andalusite/andalusitemagmatica(13).jpg  \n",
            "  inflating: Dataset/Andalusite/andalusitemagmatica(2).jpg  \n",
            "  inflating: Dataset/Andalusite/andalusitemagmatica(3).jpg  \n",
            "  inflating: Dataset/Andalusite/andalusitemagmatica(4).jpg  \n",
            "  inflating: Dataset/Andalusite/andalusitemagmatica(5).jpg  \n",
            "  inflating: Dataset/Andalusite/andalusitemagmatica(6).jpg  \n",
            "  inflating: Dataset/Andalusite/andalusitemagmatica(7).jpg  \n",
            "  inflating: Dataset/Andalusite/andalusitemagmatica(8).jpg  \n",
            "  inflating: Dataset/Andalusite/andalusitemagmatica(9).jpg  \n",
            "  inflating: Dataset/Andalusite/calamita(1).jpg  \n",
            "  inflating: Dataset/Andalusite/calamita(17).jpg  \n",
            "  inflating: Dataset/Andalusite/calamita(18).jpg  \n",
            "  inflating: Dataset/Andalusite/calamita(19).jpg  \n",
            "  inflating: Dataset/Andalusite/calamita(2).jpg  \n",
            "  inflating: Dataset/Andalusite/calamita(20).jpg  \n",
            "  inflating: Dataset/Andalusite/calamita(22).jpg  \n",
            "  inflating: Dataset/Andalusite/calamita(23).jpg  \n",
            "  inflating: Dataset/Andalusite/calamita(24).jpg  \n",
            "  inflating: Dataset/Andalusite/calamita(48).jpg  \n",
            "  inflating: Dataset/Andalusite/calamita(49).jpg  \n",
            "  inflating: Dataset/Andalusite/calamita(50).jpg  \n",
            "  inflating: Dataset/Andalusite/calamita(53).jpg  \n",
            "  inflating: Dataset/Andalusite/calamita(54).jpg  \n",
            "  inflating: Dataset/Andalusite/calamita(55).jpg  \n",
            "   creating: Dataset/Beryl/\n",
            "  inflating: Dataset/Beryl/beryl(1).jpg  \n",
            "  inflating: Dataset/Beryl/beryl(10).jpg  \n",
            "  inflating: Dataset/Beryl/beryl(11).jpg  \n",
            "  inflating: Dataset/Beryl/beryl(12).jpg  \n",
            "  inflating: Dataset/Beryl/beryl(13).jpg  \n",
            "  inflating: Dataset/Beryl/beryl(14).jpg  \n",
            "  inflating: Dataset/Beryl/beryl(15).jpg  \n",
            "  inflating: Dataset/Beryl/beryl(16).jpg  \n",
            "  inflating: Dataset/Beryl/beryl(17).jpg  \n",
            "  inflating: Dataset/Beryl/beryl(18).jpg  \n",
            "  inflating: Dataset/Beryl/beryl(2).jpg  \n",
            "  inflating: Dataset/Beryl/beryl(21).jpg  \n",
            "  inflating: Dataset/Beryl/beryl(22).jpg  \n",
            "  inflating: Dataset/Beryl/beryl(23).jpg  \n",
            "  inflating: Dataset/Beryl/beryl(24).jpg  \n",
            "  inflating: Dataset/Beryl/beryl(25).jpg  \n",
            "  inflating: Dataset/Beryl/beryl(26).jpg  \n",
            "  inflating: Dataset/Beryl/beryl(27).jpg  \n",
            "  inflating: Dataset/Beryl/beryl(28).jpg  \n",
            "  inflating: Dataset/Beryl/beryl(29).jpg  \n",
            "  inflating: Dataset/Beryl/beryl(3).jpg  \n",
            "  inflating: Dataset/Beryl/beryl(32).jpg  \n",
            "  inflating: Dataset/Beryl/beryl(33).jpg  \n",
            "  inflating: Dataset/Beryl/beryl(35).jpg  \n",
            "  inflating: Dataset/Beryl/beryl(4).jpg  \n",
            "  inflating: Dataset/Beryl/beryl(5).jpg  \n",
            "  inflating: Dataset/Beryl/beryl(6).jpg  \n",
            "  inflating: Dataset/Beryl/beryl(7).jpg  \n",
            "  inflating: Dataset/Beryl/beryl(8).jpg  \n",
            "  inflating: Dataset/Beryl/beryl(9).jpg  \n",
            "   creating: Dataset/Biotite/\n",
            "  inflating: Dataset/Biotite/0126(4).jpg  \n",
            "  inflating: Dataset/Biotite/0126(5).jpg  \n",
            "  inflating: Dataset/Biotite/biotite0092(2).jpg  \n",
            "  inflating: Dataset/Biotite/biotite0092(3).jpg  \n",
            "  inflating: Dataset/Biotite/biotite0092(4).jpg  \n",
            "  inflating: Dataset/Biotite/biotite0092(5).jpg  \n",
            "  inflating: Dataset/Biotite/biotite0092(6).jpg  \n",
            "  inflating: Dataset/Biotite/biotite0092(7).jpg  \n",
            "  inflating: Dataset/Biotite/biotitegranito2012d(2).jpg  \n",
            "  inflating: Dataset/Biotite/biotitegranito2012d(3).jpg  \n",
            "  inflating: Dataset/Biotite/biotitegranito2012d(4).jpg  \n",
            "  inflating: Dataset/Biotite/birdeye2020(1).jpg  \n",
            "  inflating: Dataset/Biotite/birdeye2020(2).jpg  \n",
            "  inflating: Dataset/Biotite/bttgranitoo(3).jpg  \n",
            "  inflating: Dataset/Biotite/bttgranitoo(4).jpg  \n",
            "  inflating: Dataset/Biotite/bttgranitoo(5).jpg  \n",
            "  inflating: Dataset/Biotite/bttgranitoo(6).jpg  \n",
            "  inflating: Dataset/Biotite/bttgranitoo(7).jpg  \n",
            "  inflating: Dataset/Biotite/bttgranitoo(9).jpg  \n",
            "   creating: Dataset/Calcite/\n",
            "  inflating: Dataset/Calcite/niocalite(oka)(28).jpg  \n",
            "  inflating: Dataset/Calcite/niocalite(oka)(3).jpg  \n",
            "  inflating: Dataset/Calcite/niocalite(oka)(30).jpg  \n",
            "  inflating: Dataset/Calcite/niocalite(oka)(31).jpg  \n",
            "  inflating: Dataset/Calcite/niocalite(oka)(32).jpg  \n",
            "  inflating: Dataset/Calcite/niocalite(oka)(33).jpg  \n",
            "  inflating: Dataset/Calcite/niocalite(oka)(4).jpg  \n",
            "  inflating: Dataset/Calcite/niocalite(oka)(51).jpg  \n",
            "  inflating: Dataset/Calcite/niocalite(oka)(55).jpg  \n",
            "  inflating: Dataset/Calcite/niocalite(oka)(73).jpg  \n",
            "  inflating: Dataset/Calcite/niocalite(oka)(74).jpg  \n",
            "  inflating: Dataset/Calcite/niocalite(oka)(75).jpg  \n",
            "  inflating: Dataset/Calcite/niocalite(oka)(76).jpg  \n",
            "   creating: Dataset/Cancrinite/\n",
            "  inflating: Dataset/Cancrinite/cancrinite2017(44).jpg  \n",
            "  inflating: Dataset/Cancrinite/cancrinite2017(45).jpg  \n",
            "  inflating: Dataset/Cancrinite/cancrinite2017(46) (1).jpg  \n",
            "  inflating: Dataset/Cancrinite/cancrinite2017(46).jpg  \n",
            "  inflating: Dataset/Cancrinite/cancrinite2017(47).jpg  \n",
            "  inflating: Dataset/Cancrinite/cancrinite2017(48).jpg  \n",
            "  inflating: Dataset/Cancrinite/naujaite(23).jpg  \n",
            "  inflating: Dataset/Cancrinite/naujaite(24).jpg  \n",
            "  inflating: Dataset/Cancrinite/naujaite(25).jpg  \n",
            "  inflating: Dataset/Cancrinite/naujaite(26).jpg  \n",
            "  inflating: Dataset/Cancrinite/naujaite(42).jpg  \n",
            "  inflating: Dataset/Cancrinite/naujaite(43).jpg  \n",
            "  inflating: Dataset/Cancrinite/naujaite(45).jpg  \n",
            "  inflating: Dataset/Cancrinite/naujaite(46).jpg  \n",
            "  inflating: Dataset/Cancrinite/naujaite(56).jpg  \n",
            "  inflating: Dataset/Cancrinite/pegmatitenefelina(11).jpg  \n",
            "  inflating: Dataset/Cancrinite/pegmatitenefelina(17).jpg  \n",
            "  inflating: Dataset/Cancrinite/pegmatitenefelina(19).jpg  \n",
            "  inflating: Dataset/Cancrinite/pegmatitenefelina(2).jpg  \n",
            "  inflating: Dataset/Cancrinite/pegmatitenefelina(20).jpg  \n",
            "  inflating: Dataset/Cancrinite/pegmatitenefelina(21).jpg  \n",
            "  inflating: Dataset/Cancrinite/pegmatitenefelina(22).jpg  \n",
            "  inflating: Dataset/Cancrinite/pegmatitenefelina(25).jpg  \n",
            "  inflating: Dataset/Cancrinite/pegmatitenefelina(26).jpg  \n",
            "  inflating: Dataset/Cancrinite/pegmatitenefelina(27).jpg  \n",
            "  inflating: Dataset/Cancrinite/pegmatitenefelina(28).jpg  \n",
            "  inflating: Dataset/Cancrinite/pegmatitenefelina(29).jpg  \n",
            "  inflating: Dataset/Cancrinite/pegmatitenefelina(30).jpg  \n",
            "  inflating: Dataset/Cancrinite/pegmatitenefelina(31).jpg  \n",
            "  inflating: Dataset/Cancrinite/pegmatitenefelina(32).jpg  \n",
            "  inflating: Dataset/Cancrinite/pegmatitenefelina(34).jpg  \n",
            "  inflating: Dataset/Cancrinite/pegmatitenefelina(35).jpg  \n",
            "  inflating: Dataset/Cancrinite/pegmatitenefelina(36).jpg  \n",
            "  inflating: Dataset/Cancrinite/pegmatitenefelina(37).jpg  \n",
            "  inflating: Dataset/Cancrinite/pegmatitenefelina(39).jpg  \n",
            "  inflating: Dataset/Cancrinite/pegmatitenefelina(40).jpg  \n",
            "   creating: Dataset/Fluorite/\n",
            "  inflating: Dataset/Fluorite/lakarpite(1).jpg  \n",
            "  inflating: Dataset/Fluorite/lakarpite(14).jpg  \n",
            "  inflating: Dataset/Fluorite/lakarpite(15).jpg  \n",
            "  inflating: Dataset/Fluorite/lakarpite(16).jpg  \n",
            "  inflating: Dataset/Fluorite/lakarpite(18).jpg  \n",
            "  inflating: Dataset/Fluorite/lakarpite(19).jpg  \n",
            "  inflating: Dataset/Fluorite/lakarpite(2).jpg  \n",
            "  inflating: Dataset/Fluorite/lakarpite(20).jpg  \n",
            "  inflating: Dataset/Fluorite/lakarpite(29).jpg  \n",
            "  inflating: Dataset/Fluorite/lakarpite(31).jpg  \n",
            "  inflating: Dataset/Fluorite/lakarpite(32).jpg  \n",
            "  inflating: Dataset/Fluorite/lakarpite(38).jpg  \n",
            "  inflating: Dataset/Fluorite/lakarpite(39).jpg  \n",
            "  inflating: Dataset/Fluorite/lakarpite(46).jpg  \n",
            "  inflating: Dataset/Fluorite/lakarpite(49).jpg  \n",
            "  inflating: Dataset/Fluorite/lakarpite(5).jpg  \n",
            "  inflating: Dataset/Fluorite/lakarpite(50).jpg  \n",
            "  inflating: Dataset/Fluorite/lakarpite(51).jpg  \n",
            "  inflating: Dataset/Fluorite/lakarpite(52).jpg  \n",
            "  inflating: Dataset/Fluorite/lakarpite(56).jpg  \n",
            "  inflating: Dataset/Fluorite/lakarpite(57).jpg  \n",
            "  inflating: Dataset/Fluorite/lakarpite(58).jpg  \n",
            "  inflating: Dataset/Fluorite/lakarpite(60).jpg  \n",
            "  inflating: Dataset/Fluorite/lakarpite(64).jpg  \n",
            "  inflating: Dataset/Fluorite/lakarpite(66).jpg  \n",
            "  inflating: Dataset/Fluorite/lakarpite(7) (1).jpg  \n",
            "  inflating: Dataset/Fluorite/lakarpite(7).jpg  \n",
            "  inflating: Dataset/Fluorite/lakarpite(8) (1).jpg  \n",
            "  inflating: Dataset/Fluorite/lakarpite(8).jpg  \n",
            "  inflating: Dataset/Fluorite/lakarpite(9) (1).jpg  \n",
            "  inflating: Dataset/Fluorite/lakarpite(9).jpg  \n",
            "   creating: Dataset/Garnets/\n",
            "  inflating: Dataset/Garnets/borolanite(14).jpg  \n",
            "  inflating: Dataset/Garnets/borolanite(15).jpg  \n",
            "  inflating: Dataset/Garnets/borolanite(16).jpg  \n",
            "  inflating: Dataset/Garnets/borolanite(26).jpg  \n",
            "  inflating: Dataset/Garnets/borolanite(27).jpg  \n",
            "  inflating: Dataset/Garnets/borolanite(28).jpg  \n",
            "  inflating: Dataset/Garnets/elbacalamita(30).jpg  \n",
            "  inflating: Dataset/Garnets/elbacalamita(32).jpg  \n",
            "  inflating: Dataset/Garnets/elbacalamita(33).jpg  \n",
            "  inflating: Dataset/Garnets/granatogranito(2).jpg  \n",
            "  inflating: Dataset/Garnets/granatogranito.jpg  \n",
            "  inflating: Dataset/Garnets/granatogranito2012(2).jpg  \n",
            "  inflating: Dataset/Garnets/granatogranito2012(3).jpg  \n",
            "  inflating: Dataset/Garnets/granatogranito2012(4).jpg  \n",
            "  inflating: Dataset/Garnets/granatogranito2012(5).jpg  \n",
            "  inflating: Dataset/Garnets/granatogranito2012(6).jpg  \n",
            "  inflating: Dataset/Garnets/granitogranati0008(3).jpg  \n",
            "  inflating: Dataset/Garnets/granitogranati0008(4).jpg  \n",
            "  inflating: Dataset/Garnets/granitogranati0008(5).jpg  \n",
            "  inflating: Dataset/Garnets/inclusionigranato0082(2).jpg  \n",
            "  inflating: Dataset/Garnets/inclusionigranato0082(3).jpg  \n",
            "  inflating: Dataset/Garnets/syenite(nepheline)(16).jpg  \n",
            "  inflating: Dataset/Garnets/syenite(nepheline)(18).jpg  \n",
            "  inflating: Dataset/Garnets/syenite(nepheline)(29).jpg  \n",
            "  inflating: Dataset/Garnets/syenite(nepheline)(3).jpg  \n",
            "  inflating: Dataset/Garnets/syenite(nepheline)(30).jpg  \n",
            "  inflating: Dataset/Garnets/syenite(nepheline)(31).jpg  \n",
            "  inflating: Dataset/Garnets/syenite(nepheline)(5).jpg  \n",
            "  inflating: Dataset/Garnets/syenite(nepheline)(6).jpg  \n",
            "  inflating: Dataset/Garnets/syenite(nepheline)(7).jpg  \n",
            "   creating: Dataset/Gold/\n",
            "  inflating: Dataset/Gold/AuinclusoPyarsenical.JPG  \n",
            "  inflating: Dataset/Gold/AuinclusoPyarsenicalPorosa.JPG  \n",
            "  inflating: Dataset/Gold/AuinclusoPyarsenicalPorosaDetalhe.JPG  \n",
            "  inflating: Dataset/Gold/AuLivre.JPG  \n",
            "  inflating: Dataset/Gold/IMG_4128.JPG  \n",
            "  inflating: Dataset/Gold/IMG_4167.JPG  \n",
            "  inflating: Dataset/Gold/IMG_4173.JPG  \n",
            "  inflating: Dataset/Gold/LCRD1026P101,90 (2).JPG  \n",
            "  inflating: Dataset/Gold/Slide1.JPG  \n",
            "  inflating: Dataset/Gold/Slide2.JPG  \n",
            "   creating: Dataset/Lazulite/\n",
            "  inflating: Dataset/Lazulite/lazulite(1).jpg  \n",
            "  inflating: Dataset/Lazulite/lazulite(10).jpg  \n",
            "  inflating: Dataset/Lazulite/lazulite(11).jpg  \n",
            "  inflating: Dataset/Lazulite/lazulite(12).jpg  \n",
            "  inflating: Dataset/Lazulite/lazulite(15).jpg  \n",
            "  inflating: Dataset/Lazulite/lazulite(16).jpg  \n",
            "  inflating: Dataset/Lazulite/lazulite(17).jpg  \n",
            "  inflating: Dataset/Lazulite/lazulite(2).jpg  \n",
            "  inflating: Dataset/Lazulite/lazulite(23).jpg  \n",
            "  inflating: Dataset/Lazulite/lazulite(24).jpg  \n",
            "  inflating: Dataset/Lazulite/lazulite(25).jpg  \n",
            "  inflating: Dataset/Lazulite/lazulite(26).jpg  \n",
            "  inflating: Dataset/Lazulite/lazulite(27).jpg  \n",
            "  inflating: Dataset/Lazulite/lazulite(28).jpg  \n",
            "  inflating: Dataset/Lazulite/lazulite(29).jpg  \n",
            "  inflating: Dataset/Lazulite/lazulite(3).jpg  \n",
            "  inflating: Dataset/Lazulite/lazulite(30).jpg  \n",
            "  inflating: Dataset/Lazulite/lazulite(32).jpg  \n",
            "  inflating: Dataset/Lazulite/lazulite(33).jpg  \n",
            "  inflating: Dataset/Lazulite/lazulite(34).jpg  \n",
            "  inflating: Dataset/Lazulite/lazulite(35).jpg  \n",
            "  inflating: Dataset/Lazulite/lazulite(4).jpg  \n",
            "  inflating: Dataset/Lazulite/lazulite(41).jpg  \n",
            "  inflating: Dataset/Lazulite/lazulite(42).jpg  \n",
            "  inflating: Dataset/Lazulite/lazulite(43).jpg  \n",
            "  inflating: Dataset/Lazulite/lazulite(49).jpg  \n",
            "  inflating: Dataset/Lazulite/lazulite(5).jpg  \n",
            "  inflating: Dataset/Lazulite/lazulite(50).jpg  \n",
            "  inflating: Dataset/Lazulite/lazulite(51).jpg  \n",
            "  inflating: Dataset/Lazulite/lazulite(6).jpg  \n",
            "  inflating: Dataset/Lazulite/lazulite(61).jpg  \n",
            "  inflating: Dataset/Lazulite/lazulite(62).jpg  \n",
            "  inflating: Dataset/Lazulite/lazulite(63).jpg  \n",
            "  inflating: Dataset/Lazulite/lazulite(64).jpg  \n",
            "  inflating: Dataset/Lazulite/lazulite(65).jpg  \n",
            "  inflating: Dataset/Lazulite/lazulite(68).jpg  \n",
            "  inflating: Dataset/Lazulite/lazulite(69).jpg  \n",
            "  inflating: Dataset/Lazulite/lazulite(7).jpg  \n",
            "  inflating: Dataset/Lazulite/lazulite(70).jpg  \n",
            "  inflating: Dataset/Lazulite/lazulite(71).jpg  \n",
            "  inflating: Dataset/Lazulite/lazulite(72).jpg  \n",
            "  inflating: Dataset/Lazulite/lazulite(73) (1).jpg  \n",
            "  inflating: Dataset/Lazulite/lazulite(73).jpg  \n",
            "  inflating: Dataset/Lazulite/lazulite(8).jpg  \n",
            "  inflating: Dataset/Lazulite/lazulite(9).jpg  \n",
            "  inflating: Dataset/Lazulite/lazulite2016(23).jpg  \n",
            "   creating: Dataset/Muscovite/\n",
            "  inflating: Dataset/Muscovite/micabianca(2).jpg  \n",
            "  inflating: Dataset/Muscovite/micabianca(3).jpg  \n",
            "  inflating: Dataset/Muscovite/micabianca(4).jpg  \n",
            "  inflating: Dataset/Muscovite/micabianca(5).jpg  \n",
            "  inflating: Dataset/Muscovite/micabianca(6).jpg  \n",
            "  inflating: Dataset/Muscovite/micabianca(7).jpg  \n",
            "  inflating: Dataset/Muscovite/micabianca(8).jpg  \n",
            "   creating: Dataset/Olivine/\n",
            "  inflating: Dataset/Olivine/dunite(11).jpg  \n",
            "  inflating: Dataset/Olivine/dunite(12).jpg  \n",
            "  inflating: Dataset/Olivine/dunite(13).jpg  \n",
            "  inflating: Dataset/Olivine/dunite(14).jpg  \n",
            "  inflating: Dataset/Olivine/dunite(15).jpg  \n",
            "  inflating: Dataset/Olivine/dunite(17).jpg  \n",
            "  inflating: Dataset/Olivine/dunite(18).jpg  \n",
            "  inflating: Dataset/Olivine/dunite(19).jpg  \n",
            "  inflating: Dataset/Olivine/dunite(20).jpg  \n",
            "  inflating: Dataset/Olivine/dunite2507(1).jpg  \n",
            "  inflating: Dataset/Olivine/dunite2507(2).jpg  \n",
            "  inflating: Dataset/Olivine/dunite2507(3).jpg  \n",
            "  inflating: Dataset/Olivine/gabbro(ol)(11).jpg  \n",
            "  inflating: Dataset/Olivine/gabbro(ol)(12).jpg  \n",
            "  inflating: Dataset/Olivine/gabbro(ol)(13).jpg  \n",
            "  inflating: Dataset/Olivine/gabbro(ol)(23).jpg  \n",
            "  inflating: Dataset/Olivine/gabbro(ol)(39).jpg  \n",
            "  inflating: Dataset/Olivine/gabbro(ol)(40).jpg  \n",
            "  inflating: Dataset/Olivine/lherzoliteagranatoserpentinizzata(21).jpg  \n",
            "  inflating: Dataset/Olivine/lherzoliteagranatoserpentinizzata(22).jpg  \n",
            "  inflating: Dataset/Olivine/lherzoliteagranatoserpentinizzata(23).jpg  \n",
            "  inflating: Dataset/Olivine/lherzoliteagranatoserpentinizzata(24).jpg  \n",
            "  inflating: Dataset/Olivine/lherzoliteagranatoserpentinizzata(25).jpg  \n",
            "  inflating: Dataset/Olivine/mattoni(66).jpg  \n",
            "  inflating: Dataset/Olivine/mattoni(67).jpg  \n",
            "  inflating: Dataset/Olivine/mattoni(70).jpg  \n",
            "  inflating: Dataset/Olivine/rum(74).jpg  \n",
            "  inflating: Dataset/Olivine/rum(75).jpg  \n",
            "  inflating: Dataset/Olivine/rum(76).jpg  \n",
            "  inflating: Dataset/Olivine/rum(80).jpg  \n",
            "  inflating: Dataset/Olivine/rum(81).jpg  \n",
            "  inflating: Dataset/Olivine/rum(84).jpg  \n",
            "  inflating: Dataset/Olivine/troctolite(11).jpg  \n",
            "  inflating: Dataset/Olivine/troctolite(22).jpg  \n",
            "  inflating: Dataset/Olivine/troctolite(23).jpg  \n",
            "  inflating: Dataset/Olivine/trooctoolite(2).jpg  \n",
            "  inflating: Dataset/Olivine/trooctoolite(5).jpg  \n",
            "  inflating: Dataset/Olivine/trooctoolite(6).jpg  \n",
            "   creating: Dataset/Quartz/\n",
            "  inflating: Dataset/Quartz/granitofeldspatialcalini001(2).jpg  \n",
            "  inflating: Dataset/Quartz/granitofeldspatialcalini001(3).jpg  \n",
            "  inflating: Dataset/Quartz/granitofeldspatialcalini001(4).jpg  \n",
            "  inflating: Dataset/Quartz/granitofeldspatialcalini2012a(2).jpg  \n",
            "  inflating: Dataset/Quartz/granitofeldspatialcalini2012a(3).jpg  \n",
            "  inflating: Dataset/Quartz/granitofeldspatialcalini2012a(4).jpg  \n",
            "  inflating: Dataset/Quartz/quarzogabbro2012(11).jpg  \n",
            "  inflating: Dataset/Quartz/quarzogabbro2012(9).jpg  \n",
            "  inflating: Dataset/Quartz/quuuaerzo(2).jpg  \n",
            "  inflating: Dataset/Quartz/quuuaerzo(3).jpg  \n",
            "  inflating: Dataset/Quartz/quuuaerzo(4).jpg  \n",
            "  inflating: Dataset/Quartz/quuuaerzo(5).jpg  \n",
            "   creating: Dataset/Sodalite/\n",
            "  inflating: Dataset/Sodalite/naujaite(19).jpg  \n",
            "  inflating: Dataset/Sodalite/naujaite(21).jpg  \n",
            "  inflating: Dataset/Sodalite/naujaite(22).jpg  \n",
            "  inflating: Dataset/Sodalite/naujaite(23).jpg  \n",
            "  inflating: Dataset/Sodalite/naujaite(24).jpg  \n",
            "  inflating: Dataset/Sodalite/naujaite(25).jpg  \n",
            "  inflating: Dataset/Sodalite/naujaite(26).jpg  \n",
            "  inflating: Dataset/Sodalite/naujaite(28).jpg  \n",
            "  inflating: Dataset/Sodalite/naujaite(29).jpg  \n",
            "  inflating: Dataset/Sodalite/naujaite(45).jpg  \n",
            "  inflating: Dataset/Sodalite/naujaite(56).jpg  \n",
            "  inflating: Dataset/Sodalite/naujaite(57).jpg  \n",
            "  inflating: Dataset/Sodalite/sienitesodalite777(10).jpg  \n",
            "  inflating: Dataset/Sodalite/sienitesodalite777(11).jpg  \n",
            "  inflating: Dataset/Sodalite/sienitesodalite777(4).jpg  \n",
            "  inflating: Dataset/Sodalite/sienitesodalite777(6) (1).jpg  \n",
            "  inflating: Dataset/Sodalite/sienitesodalite777(6).jpg  \n",
            "  inflating: Dataset/Sodalite/sienitesodalite777(7) (1).jpg  \n",
            "  inflating: Dataset/Sodalite/sienitesodalite777(7).jpg  \n",
            "  inflating: Dataset/Sodalite/sienitesodalite777(9).jpg  \n",
            "   creating: Dataset/Titanite (sphene)/\n",
            "  inflating: Dataset/Titanite (sphene)/titaanite(2) (1).jpg  \n",
            "  inflating: Dataset/Titanite (sphene)/titaanite(2).jpg  \n",
            "  inflating: Dataset/Titanite (sphene)/titaanite(4).jpg  \n",
            "  inflating: Dataset/Titanite (sphene)/titaanite(5).jpg  \n",
            "  inflating: Dataset/Titanite (sphene)/titaanite(6).jpg  \n",
            "  inflating: Dataset/Titanite (sphene)/titaanite(7).jpg  \n",
            "  inflating: Dataset/Titanite (sphene)/titaanite.jpg  \n",
            "  inflating: Dataset/Titanite (sphene)/titanite0074(2).jpg  \n",
            "  inflating: Dataset/Titanite (sphene)/titanite0074(3).jpg  \n",
            "  inflating: Dataset/Titanite (sphene)/titanite1466(3).jpg  \n",
            "  inflating: Dataset/Titanite (sphene)/titanite1466(4).jpg  \n",
            "  inflating: Dataset/Titanite (sphene)/titanite1466(5).jpg  \n",
            "  inflating: Dataset/Titanite (sphene)/titaniteeee(10).jpg  \n",
            "  inflating: Dataset/Titanite (sphene)/titaniteeee(3).jpg  \n",
            "  inflating: Dataset/Titanite (sphene)/titaniteeee(4).jpg  \n",
            "  inflating: Dataset/Titanite (sphene)/titaniteeee(6).jpg  \n",
            "  inflating: Dataset/Titanite (sphene)/titaniteeee(8).jpg  \n",
            "  inflating: Dataset/Titanite (sphene)/titanitegranito.jpg  \n",
            "   creating: Dataset/Topaz/\n",
            "  inflating: Dataset/Topaz/greisen(13).jpg  \n",
            "  inflating: Dataset/Topaz/greisen(14).jpg  \n",
            "  inflating: Dataset/Topaz/greisen(19).jpg  \n",
            "  inflating: Dataset/Topaz/greisen(20).jpg  \n",
            "  inflating: Dataset/Topaz/greisen(21).jpg  \n",
            "  inflating: Dataset/Topaz/greisen(22).jpg  \n",
            "  inflating: Dataset/Topaz/greisen(23).jpg  \n",
            "  inflating: Dataset/Topaz/greisen(24).jpg  \n",
            "  inflating: Dataset/Topaz/greisen(25).jpg  \n",
            "  inflating: Dataset/Topaz/greisen(26) (1).jpg  \n",
            "  inflating: Dataset/Topaz/greisen(26).jpg  \n",
            "  inflating: Dataset/Topaz/greisen(29).jpg  \n",
            "  inflating: Dataset/Topaz/greisen(3).jpg  \n",
            "  inflating: Dataset/Topaz/greisen(30) (1).jpg  \n",
            "  inflating: Dataset/Topaz/greisen(30).jpg  \n",
            "  inflating: Dataset/Topaz/greisen(32).jpg  \n",
            "  inflating: Dataset/Topaz/greisen(4).jpg  \n",
            "  inflating: Dataset/Topaz/greisen(41).jpg  \n",
            "  inflating: Dataset/Topaz/greisen(42).jpg  \n",
            "  inflating: Dataset/Topaz/greisen(44).jpg  \n",
            "  inflating: Dataset/Topaz/greisen(45).jpg  \n",
            "  inflating: Dataset/Topaz/greisen(5).jpg  \n",
            "  inflating: Dataset/Topaz/greisen(52).jpg  \n",
            "  inflating: Dataset/Topaz/greisen(54).jpg  \n",
            "  inflating: Dataset/Topaz/greisen(6).jpg  \n",
            "  inflating: Dataset/Topaz/greisen(64).jpg  \n",
            "  inflating: Dataset/Topaz/greisen(66).jpg  \n",
            "  inflating: Dataset/Topaz/greisen(69).jpg  \n",
            "  inflating: Dataset/Topaz/greisen(7).jpg  \n",
            "  inflating: Dataset/Topaz/greisen(70).jpg  \n",
            "  inflating: Dataset/Topaz/greisen(71).jpg  \n",
            "  inflating: Dataset/Topaz/greisen(75).jpg  \n",
            "  inflating: Dataset/Topaz/greisen(78).jpg  \n",
            "  inflating: Dataset/Topaz/greisen(79).jpg  \n",
            "  inflating: Dataset/Topaz/greisen(8).jpg  \n",
            "  inflating: Dataset/Topaz/greisen(82).jpg  \n",
            "   creating: Dataset/Tourmaline/\n",
            "  inflating: Dataset/Tourmaline/apliteelbaaloisi(10).jpg  \n",
            "  inflating: Dataset/Tourmaline/apliteelbaaloisi(11).jpg  \n",
            "  inflating: Dataset/Tourmaline/apliteelbaaloisi(12).jpg  \n",
            "  inflating: Dataset/Tourmaline/apliteelbaaloisi(13).jpg  \n",
            "  inflating: Dataset/Tourmaline/apliteelbaaloisi(2).jpg  \n",
            "  inflating: Dataset/Tourmaline/apliteelbaaloisi(9).jpg  \n",
            "  inflating: Dataset/Tourmaline/gavorrano(2).jpg  \n",
            "  inflating: Dataset/Tourmaline/gavorrano(21).jpg  \n",
            "  inflating: Dataset/Tourmaline/gavorrano(3).jpg  \n",
            "  inflating: Dataset/Tourmaline/gavorrano(4).jpg  \n",
            "  inflating: Dataset/Tourmaline/gavorrano(5).jpg  \n",
            "  inflating: Dataset/Tourmaline/gavorrano(7).jpg  \n",
            "  inflating: Dataset/Tourmaline/luxullianite(11).jpg  \n",
            "  inflating: Dataset/Tourmaline/luxullianite(12).jpg  \n",
            "  inflating: Dataset/Tourmaline/luxullianite(13).jpg  \n",
            "  inflating: Dataset/Tourmaline/luxullianite(14) (1).jpg  \n",
            "  inflating: Dataset/Tourmaline/luxullianite(14).jpg  \n",
            "  inflating: Dataset/Tourmaline/luxullianite(16).jpg  \n",
            "  inflating: Dataset/Tourmaline/luxullianite(17).jpg  \n",
            "  inflating: Dataset/Tourmaline/luxullianite(18) (1).jpg  \n",
            "  inflating: Dataset/Tourmaline/luxullianite(18).jpg  \n",
            "  inflating: Dataset/Tourmaline/tormalinamontecristo(10).jpg  \n",
            "  inflating: Dataset/Tourmaline/tormalinamontecristo(11).jpg  \n",
            "  inflating: Dataset/Tourmaline/tormalinamontecristo(3).jpg  \n",
            "  inflating: Dataset/Tourmaline/tormalinamontecristo(4).jpg  \n",
            "  inflating: Dataset/Tourmaline/tormalinamontecristo(5).jpg  \n",
            "  inflating: Dataset/Tourmaline/tormalinamontecristo(6).jpg  \n",
            "  inflating: Dataset/Tourmaline/tormalinamontecristo(7).jpg  \n",
            "  inflating: Dataset/Tourmaline/tormalinamontecristo(8).jpg  \n",
            "  inflating: Dataset/Tourmaline/tormalinamontecristo(9).jpg  \n",
            "  inflating: Dataset/Tourmaline/tormalinapluto(4).jpg  \n",
            "  inflating: Dataset/Tourmaline/tormalinapluto(5).jpg  \n",
            "  inflating: Dataset/Tourmaline/tormalinapluto(6).jpg  \n",
            "  inflating: Dataset/Tourmaline/tormalinapluto.jpg  \n",
            "  inflating: Dataset/Tourmaline/tormalinaporfiroidiapuane(2).jpg  \n",
            "  inflating: Dataset/Tourmaline/tormalinaporfiroidiapuane(3).jpg  \n",
            "  inflating: Dataset/Tourmaline/tormalinaporfiroidiapuane(4).jpg  \n",
            "  inflating: Dataset/Tourmaline/tormalinaporfiroidiapuane(5) (1).jpg  \n",
            "  inflating: Dataset/Tourmaline/tormalinaporfiroidiapuane(5).jpg  \n",
            "  inflating: Dataset/Tourmaline/tormalinaporfiroidiapuane(7).jpg  \n",
            "  inflating: Dataset/Tourmaline/turmalinazonata(2).jpg  \n",
            "  inflating: Dataset/Tourmaline/turmalinazonata.jpg  \n"
          ]
        }
      ]
    },
    {
      "cell_type": "code",
      "source": [
        "#Emulate variables\n",
        "IMAGE_PATH = r\"/content/Emulate\"\n",
        "GENERAL_PATH = r\"/content\"\n",
        "OUTPUT_PATH = r\"./Output\" #teste\n",
        "\n",
        "IMAGE_WIDTH = 30 #Original 200\n",
        "IMAGE_HEIGHT = 30 \n",
        "val_ratio = 0.20\n",
        "test_ratio = 0.20\n",
        "np.random.seed(1)"
      ],
      "metadata": {
        "id": "15_lEzW3L0Og"
      },
      "execution_count": 8,
      "outputs": []
    },
    {
      "cell_type": "code",
      "execution_count": null,
      "metadata": {
        "id": "oXnPyNbIc6VG"
      },
      "outputs": [],
      "source": [
        "#Global variables\n",
        "IMAGE_PATH = r\"/content/Dataset\"\n",
        "GENERAL_PATH = r\"/content\"\n",
        "OUTPUT_PATH = r\"./Output\" #teste\n",
        "\n",
        "IMAGE_WIDTH = 200 \n",
        "IMAGE_HEIGHT = 200 \n",
        "\n",
        "test_ratio = 0.20\n",
        "np.random.seed(1)"
      ]
    },
    {
      "cell_type": "markdown",
      "metadata": {
        "id": "nnKt1TDXMqNp"
      },
      "source": [
        "**Data Understanding**"
      ]
    },
    {
      "cell_type": "code",
      "execution_count": 9,
      "metadata": {
        "colab": {
          "base_uri": "https://localhost:8080/"
        },
        "id": "sT3phvIx5RTR",
        "outputId": "4e924897-5bb6-486a-ef7b-0a6aaf4247d5"
      },
      "outputs": [
        {
          "output_type": "stream",
          "name": "stdout",
          "text": [
            "2 classes with 54 images in total\n"
          ]
        }
      ],
      "source": [
        "classes, num_photos, imagens, image_label = [], [], [], [] \n",
        "\n",
        "for root, dirs, files in os.walk(IMAGE_PATH):\n",
        "    f = os.path.basename(root) # pega o nome da classe\n",
        "    classes.append(f)       \n",
        "    for file in files:\n",
        "        string = root+'/'+file\n",
        "        path = r\"{}\".format(string)\n",
        "        imagens.append(mpimg.imread(path))\n",
        "        image_label.append(str(f))\n",
        "    \n",
        "    if len(files) > 0:\n",
        "        num_photos.append(len(files))\n",
        "    \n",
        "        \n",
        "#print(imagens)\n",
        "del classes[0]\n",
        "print('{} classes with {} images in total'.format(len(classes), sum(num_photos)))"
      ]
    },
    {
      "cell_type": "code",
      "source": [
        "def remove_unwanted_classes(classes,num_photos,string):\n",
        "  aux_i = []\n",
        "  aux = string.split(',')\n",
        "  for partes in aux:\n",
        "    index = classes.index(partes)\n",
        "    aux_i.append(index)\n",
        "  num_photos = [i for j, i in enumerate(num_photos) if j in aux_i]\n",
        "  classes = [i for j, i in enumerate(classes) if j in aux_i]\n",
        "  return num_photos,classes"
      ],
      "metadata": {
        "id": "PQIMSQ5qbXXK"
      },
      "execution_count": 6,
      "outputs": []
    },
    {
      "cell_type": "code",
      "source": [
        "num_photos, classes = remove_unwanted_classes(classes,num_photos,'Andalusite,Lazulite')\n",
        "print(num_photos)\n",
        "print(classes)"
      ],
      "metadata": {
        "colab": {
          "base_uri": "https://localhost:8080/"
        },
        "id": "77NNUgqVbqb1",
        "outputId": "a139af07-32cc-4ad3-f272-8f654208bc29"
      },
      "execution_count": null,
      "outputs": [
        {
          "output_type": "stream",
          "name": "stdout",
          "text": [
            "[27, 46]\n",
            "['Andalusite', 'Lazulite']\n"
          ]
        }
      ]
    },
    {
      "cell_type": "code",
      "execution_count": 10,
      "metadata": {
        "id": "E86TgcwS5RTY",
        "outputId": "e0fdf971-e54a-4ef6-c6ae-e820150bca16",
        "colab": {
          "base_uri": "https://localhost:8080/"
        }
      },
      "outputs": [
        {
          "output_type": "execute_result",
          "data": {
            "text/plain": [
              "54"
            ]
          },
          "metadata": {},
          "execution_count": 10
        }
      ],
      "source": [
        "len(imagens)"
      ]
    },
    {
      "cell_type": "code",
      "execution_count": 11,
      "metadata": {
        "id": "qo_qM0J35RTe",
        "outputId": "fd62973e-3691-4a8c-f8ab-17bc1bc68dd4",
        "colab": {
          "base_uri": "https://localhost:8080/",
          "height": 287
        }
      },
      "outputs": [
        {
          "output_type": "stream",
          "name": "stdout",
          "text": [
            "Andalusite\n"
          ]
        },
        {
          "output_type": "display_data",
          "data": {
            "image/png": "[encoded data removed]",
            "text/plain": [
              "<Figure size 432x288 with 1 Axes>"
            ]
          },
          "metadata": {
            "needs_background": "light"
          }
        }
      ],
      "source": [
        "imgplot = plt.imshow(imagens[18])\n",
        "print(image_label[18])"
      ]
    },
    {
      "cell_type": "code",
      "execution_count": 12,
      "metadata": {
        "colab": {
          "base_uri": "https://localhost:8080/"
        },
        "id": "uzqNh4WAqVKv",
        "outputId": "ddafbc70-d965-4639-e364-066e96591696"
      },
      "outputs": [
        {
          "output_type": "stream",
          "name": "stdout",
          "text": [
            "      Classes  NumFotos\n",
            "0  Andalusite        27\n",
            "1    Lazulite        27\n"
          ]
        }
      ],
      "source": [
        "#Plota o gráfico de barras: classes e quantidade de dados por classe\n",
        "data = {\"Classes\":classes,\"NumFotos\":num_photos}\n",
        "df = pd.DataFrame(data)\n",
        "df = df.sort_values(\"NumFotos\",ascending=False)\n",
        "print(df)"
      ]
    },
    {
      "cell_type": "code",
      "execution_count": 13,
      "metadata": {
        "id": "hAXEz38s5RTm",
        "colab": {
          "base_uri": "https://localhost:8080/",
          "height": 542
        },
        "outputId": "d0607edc-27a8-4d48-c2e9-9fc7e4eed61d"
      },
      "outputs": [
        {
          "output_type": "display_data",
          "data": {
            "text/html": [
              "<html>\n",
              "<head><meta charset=\"utf-8\" /></head>\n",
              "<body>\n",
              "    <div>            <script src=\"https://cdnjs.cloudflare.com/ajax/libs/mathjax/2.7.5/MathJax.js?config=TeX-AMS-MML_SVG\"></script><script type=\"text/javascript\">if (window.MathJax) {MathJax.Hub.Config({SVG: {font: \"STIX-Web\"}});}</script>                <script type=\"text/javascript\">window.PlotlyConfig = {MathJaxConfig: 'local'};</script>\n",
              "        <script src=\"https://cdn.plot.ly/plotly-2.8.3.min.js\"></script>                <div id=\"63b68bba-f015-4563-8db6-d2cce90070b0\" class=\"plotly-graph-div\" style=\"height:525px; width:100%;\"></div>            <script type=\"text/javascript\">                                    window.PLOTLYENV=window.PLOTLYENV || {};                                    if (document.getElementById(\"63b68bba-f015-4563-8db6-d2cce90070b0\")) {                    Plotly.newPlot(                        \"63b68bba-f015-4563-8db6-d2cce90070b0\",                        [{\"alignmentgroup\":\"True\",\"hovertemplate\":\"variable=%{x}<br>value=%{y}<extra></extra>\",\"legendgroup\":\"\",\"marker\":{\"color\":\"#636efa\"},\"name\":\"\",\"notched\":false,\"offsetgroup\":\"\",\"orientation\":\"v\",\"showlegend\":false,\"x\":[\"0\",\"0\"],\"x0\":\" \",\"xaxis\":\"x\",\"y\":[27,27],\"y0\":\" \",\"yaxis\":\"y\",\"type\":\"box\"}],                        {\"template\":{\"data\":{\"bar\":[{\"error_x\":{\"color\":\"#2a3f5f\"},\"error_y\":{\"color\":\"#2a3f5f\"},\"marker\":{\"line\":{\"color\":\"#E5ECF6\",\"width\":0.5},\"pattern\":{\"fillmode\":\"overlay\",\"size\":10,\"solidity\":0.2}},\"type\":\"bar\"}],\"barpolar\":[{\"marker\":{\"line\":{\"color\":\"#E5ECF6\",\"width\":0.5},\"pattern\":{\"fillmode\":\"overlay\",\"size\":10,\"solidity\":0.2}},\"type\":\"barpolar\"}],\"carpet\":[{\"aaxis\":{\"endlinecolor\":\"#2a3f5f\",\"gridcolor\":\"white\",\"linecolor\":\"white\",\"minorgridcolor\":\"white\",\"startlinecolor\":\"#2a3f5f\"},\"baxis\":{\"endlinecolor\":\"#2a3f5f\",\"gridcolor\":\"white\",\"linecolor\":\"white\",\"minorgridcolor\":\"white\",\"startlinecolor\":\"#2a3f5f\"},\"type\":\"carpet\"}],\"choropleth\":[{\"colorbar\":{\"outlinewidth\":0,\"ticks\":\"\"},\"type\":\"choropleth\"}],\"contour\":[{\"colorbar\":{\"outlinewidth\":0,\"ticks\":\"\"},\"colorscale\":[[0.0,\"#0d0887\"],[0.1111111111111111,\"#46039f\"],[0.2222222222222222,\"#7201a8\"],[0.3333333333333333,\"#9c179e\"],[0.4444444444444444,\"#bd3786\"],[0.5555555555555556,\"#d8576b\"],[0.6666666666666666,\"#ed7953\"],[0.7777777777777778,\"#fb9f3a\"],[0.8888888888888888,\"#fdca26\"],[1.0,\"#f0f921\"]],\"type\":\"contour\"}],\"contourcarpet\":[{\"colorbar\":{\"outlinewidth\":0,\"ticks\":\"\"},\"type\":\"contourcarpet\"}],\"heatmap\":[{\"colorbar\":{\"outlinewidth\":0,\"ticks\":\"\"},\"colorscale\":[[0.0,\"#0d0887\"],[0.1111111111111111,\"#46039f\"],[0.2222222222222222,\"#7201a8\"],[0.3333333333333333,\"#9c179e\"],[0.4444444444444444,\"#bd3786\"],[0.5555555555555556,\"#d8576b\"],[0.6666666666666666,\"#ed7953\"],[0.7777777777777778,\"#fb9f3a\"],[0.8888888888888888,\"#fdca26\"],[1.0,\"#f0f921\"]],\"type\":\"heatmap\"}],\"heatmapgl\":[{\"colorbar\":{\"outlinewidth\":0,\"ticks\":\"\"},\"colorscale\":[[0.0,\"#0d0887\"],[0.1111111111111111,\"#46039f\"],[0.2222222222222222,\"#7201a8\"],[0.3333333333333333,\"#9c179e\"],[0.4444444444444444,\"#bd3786\"],[0.5555555555555556,\"#d8576b\"],[0.6666666666666666,\"#ed7953\"],[0.7777777777777778,\"#fb9f3a\"],[0.8888888888888888,\"#fdca26\"],[1.0,\"#f0f921\"]],\"type\":\"heatmapgl\"}],\"histogram\":[{\"marker\":{\"pattern\":{\"fillmode\":\"overlay\",\"size\":10,\"solidity\":0.2}},\"type\":\"histogram\"}],\"histogram2d\":[{\"colorbar\":{\"outlinewidth\":0,\"ticks\":\"\"},\"colorscale\":[[0.0,\"#0d0887\"],[0.1111111111111111,\"#46039f\"],[0.2222222222222222,\"#7201a8\"],[0.3333333333333333,\"#9c179e\"],[0.4444444444444444,\"#bd3786\"],[0.5555555555555556,\"#d8576b\"],[0.6666666666666666,\"#ed7953\"],[0.7777777777777778,\"#fb9f3a\"],[0.8888888888888888,\"#fdca26\"],[1.0,\"#f0f921\"]],\"type\":\"histogram2d\"}],\"histogram2dcontour\":[{\"colorbar\":{\"outlinewidth\":0,\"ticks\":\"\"},\"colorscale\":[[0.0,\"#0d0887\"],[0.1111111111111111,\"#46039f\"],[0.2222222222222222,\"#7201a8\"],[0.3333333333333333,\"#9c179e\"],[0.4444444444444444,\"#bd3786\"],[0.5555555555555556,\"#d8576b\"],[0.6666666666666666,\"#ed7953\"],[0.7777777777777778,\"#fb9f3a\"],[0.8888888888888888,\"#fdca26\"],[1.0,\"#f0f921\"]],\"type\":\"histogram2dcontour\"}],\"mesh3d\":[{\"colorbar\":{\"outlinewidth\":0,\"ticks\":\"\"},\"type\":\"mesh3d\"}],\"parcoords\":[{\"line\":{\"colorbar\":{\"outlinewidth\":0,\"ticks\":\"\"}},\"type\":\"parcoords\"}],\"pie\":[{\"automargin\":true,\"type\":\"pie\"}],\"scatter\":[{\"marker\":{\"colorbar\":{\"outlinewidth\":0,\"ticks\":\"\"}},\"type\":\"scatter\"}],\"scatter3d\":[{\"line\":{\"colorbar\":{\"outlinewidth\":0,\"ticks\":\"\"}},\"marker\":{\"colorbar\":{\"outlinewidth\":0,\"ticks\":\"\"}},\"type\":\"scatter3d\"}],\"scattercarpet\":[{\"marker\":{\"colorbar\":{\"outlinewidth\":0,\"ticks\":\"\"}},\"type\":\"scattercarpet\"}],\"scattergeo\":[{\"marker\":{\"colorbar\":{\"outlinewidth\":0,\"ticks\":\"\"}},\"type\":\"scattergeo\"}],\"scattergl\":[{\"marker\":{\"colorbar\":{\"outlinewidth\":0,\"ticks\":\"\"}},\"type\":\"scattergl\"}],\"scattermapbox\":[{\"marker\":{\"colorbar\":{\"outlinewidth\":0,\"ticks\":\"\"}},\"type\":\"scattermapbox\"}],\"scatterpolar\":[{\"marker\":{\"colorbar\":{\"outlinewidth\":0,\"ticks\":\"\"}},\"type\":\"scatterpolar\"}],\"scatterpolargl\":[{\"marker\":{\"colorbar\":{\"outlinewidth\":0,\"ticks\":\"\"}},\"type\":\"scatterpolargl\"}],\"scatterternary\":[{\"marker\":{\"colorbar\":{\"outlinewidth\":0,\"ticks\":\"\"}},\"type\":\"scatterternary\"}],\"surface\":[{\"colorbar\":{\"outlinewidth\":0,\"ticks\":\"\"},\"colorscale\":[[0.0,\"#0d0887\"],[0.1111111111111111,\"#46039f\"],[0.2222222222222222,\"#7201a8\"],[0.3333333333333333,\"#9c179e\"],[0.4444444444444444,\"#bd3786\"],[0.5555555555555556,\"#d8576b\"],[0.6666666666666666,\"#ed7953\"],[0.7777777777777778,\"#fb9f3a\"],[0.8888888888888888,\"#fdca26\"],[1.0,\"#f0f921\"]],\"type\":\"surface\"}],\"table\":[{\"cells\":{\"fill\":{\"color\":\"#EBF0F8\"},\"line\":{\"color\":\"white\"}},\"header\":{\"fill\":{\"color\":\"#C8D4E3\"},\"line\":{\"color\":\"white\"}},\"type\":\"table\"}]},\"layout\":{\"annotationdefaults\":{\"arrowcolor\":\"#2a3f5f\",\"arrowhead\":0,\"arrowwidth\":1},\"autotypenumbers\":\"strict\",\"coloraxis\":{\"colorbar\":{\"outlinewidth\":0,\"ticks\":\"\"}},\"colorscale\":{\"diverging\":[[0,\"#8e0152\"],[0.1,\"#c51b7d\"],[0.2,\"#de77ae\"],[0.3,\"#f1b6da\"],[0.4,\"#fde0ef\"],[0.5,\"#f7f7f7\"],[0.6,\"#e6f5d0\"],[0.7,\"#b8e186\"],[0.8,\"#7fbc41\"],[0.9,\"#4d9221\"],[1,\"#276419\"]],\"sequential\":[[0.0,\"#0d0887\"],[0.1111111111111111,\"#46039f\"],[0.2222222222222222,\"#7201a8\"],[0.3333333333333333,\"#9c179e\"],[0.4444444444444444,\"#bd3786\"],[0.5555555555555556,\"#d8576b\"],[0.6666666666666666,\"#ed7953\"],[0.7777777777777778,\"#fb9f3a\"],[0.8888888888888888,\"#fdca26\"],[1.0,\"#f0f921\"]],\"sequentialminus\":[[0.0,\"#0d0887\"],[0.1111111111111111,\"#46039f\"],[0.2222222222222222,\"#7201a8\"],[0.3333333333333333,\"#9c179e\"],[0.4444444444444444,\"#bd3786\"],[0.5555555555555556,\"#d8576b\"],[0.6666666666666666,\"#ed7953\"],[0.7777777777777778,\"#fb9f3a\"],[0.8888888888888888,\"#fdca26\"],[1.0,\"#f0f921\"]]},\"colorway\":[\"#636efa\",\"#EF553B\",\"#00cc96\",\"#ab63fa\",\"#FFA15A\",\"#19d3f3\",\"#FF6692\",\"#B6E880\",\"#FF97FF\",\"#FECB52\"],\"font\":{\"color\":\"#2a3f5f\"},\"geo\":{\"bgcolor\":\"white\",\"lakecolor\":\"white\",\"landcolor\":\"#E5ECF6\",\"showlakes\":true,\"showland\":true,\"subunitcolor\":\"white\"},\"hoverlabel\":{\"align\":\"left\"},\"hovermode\":\"closest\",\"mapbox\":{\"style\":\"light\"},\"paper_bgcolor\":\"white\",\"plot_bgcolor\":\"#E5ECF6\",\"polar\":{\"angularaxis\":{\"gridcolor\":\"white\",\"linecolor\":\"white\",\"ticks\":\"\"},\"bgcolor\":\"#E5ECF6\",\"radialaxis\":{\"gridcolor\":\"white\",\"linecolor\":\"white\",\"ticks\":\"\"}},\"scene\":{\"xaxis\":{\"backgroundcolor\":\"#E5ECF6\",\"gridcolor\":\"white\",\"gridwidth\":2,\"linecolor\":\"white\",\"showbackground\":true,\"ticks\":\"\",\"zerolinecolor\":\"white\"},\"yaxis\":{\"backgroundcolor\":\"#E5ECF6\",\"gridcolor\":\"white\",\"gridwidth\":2,\"linecolor\":\"white\",\"showbackground\":true,\"ticks\":\"\",\"zerolinecolor\":\"white\"},\"zaxis\":{\"backgroundcolor\":\"#E5ECF6\",\"gridcolor\":\"white\",\"gridwidth\":2,\"linecolor\":\"white\",\"showbackground\":true,\"ticks\":\"\",\"zerolinecolor\":\"white\"}},\"shapedefaults\":{\"line\":{\"color\":\"#2a3f5f\"}},\"ternary\":{\"aaxis\":{\"gridcolor\":\"white\",\"linecolor\":\"white\",\"ticks\":\"\"},\"baxis\":{\"gridcolor\":\"white\",\"linecolor\":\"white\",\"ticks\":\"\"},\"bgcolor\":\"#E5ECF6\",\"caxis\":{\"gridcolor\":\"white\",\"linecolor\":\"white\",\"ticks\":\"\"}},\"title\":{\"x\":0.05},\"xaxis\":{\"automargin\":true,\"gridcolor\":\"white\",\"linecolor\":\"white\",\"ticks\":\"\",\"title\":{\"standoff\":15},\"zerolinecolor\":\"white\",\"zerolinewidth\":2},\"yaxis\":{\"automargin\":true,\"gridcolor\":\"white\",\"linecolor\":\"white\",\"ticks\":\"\",\"title\":{\"standoff\":15},\"zerolinecolor\":\"white\",\"zerolinewidth\":2}}},\"xaxis\":{\"anchor\":\"y\",\"domain\":[0.0,1.0],\"title\":{\"text\":\"variable\"}},\"yaxis\":{\"anchor\":\"x\",\"domain\":[0.0,1.0],\"title\":{\"text\":\"N\\u00ba de fotos\"}},\"legend\":{\"tracegroupgap\":0},\"margin\":{\"t\":60},\"boxmode\":\"group\",\"title\":{\"text\":\"Distribui\\u00e7\\u00e3o de fotos\"}},                        {\"responsive\": true}                    ).then(function(){\n",
              "                            \n",
              "var gd = document.getElementById('63b68bba-f015-4563-8db6-d2cce90070b0');\n",
              "var x = new MutationObserver(function (mutations, observer) {{\n",
              "        var display = window.getComputedStyle(gd).display;\n",
              "        if (!display || display === 'none') {{\n",
              "            console.log([gd, 'removed!']);\n",
              "            Plotly.purge(gd);\n",
              "            observer.disconnect();\n",
              "        }}\n",
              "}});\n",
              "\n",
              "// Listen for the removal of the full notebook cells\n",
              "var notebookContainer = gd.closest('#notebook-container');\n",
              "if (notebookContainer) {{\n",
              "    x.observe(notebookContainer, {childList: true});\n",
              "}}\n",
              "\n",
              "// Listen for the clearing of the current output cell\n",
              "var outputEl = gd.closest('.output');\n",
              "if (outputEl) {{\n",
              "    x.observe(outputEl, {childList: true});\n",
              "}}\n",
              "\n",
              "                        })                };                            </script>        </div>\n",
              "</body>\n",
              "</html>"
            ]
          },
          "metadata": {}
        }
      ],
      "source": [
        "fig = px.box(num_photos)\n",
        "fig.update_layout(\n",
        "    title=\"Distribuição de fotos\",\n",
        "    yaxis_title=\"Nº de fotos\",\n",
        ")\n",
        "fig.show()"
      ]
    },
    {
      "cell_type": "code",
      "execution_count": 14,
      "metadata": {
        "id": "qQdHUiRh5RTo",
        "colab": {
          "base_uri": "https://localhost:8080/"
        },
        "outputId": "bfe73b3b-7912-41f7-f530-74eda96a4c71"
      },
      "outputs": [
        {
          "output_type": "stream",
          "name": "stdout",
          "text": [
            "Total images:  27\n",
            "Training:  16\n",
            "Validation:  5\n",
            "Testing:  6\n",
            "Total images:  27\n",
            "Training:  16\n",
            "Validation:  5\n",
            "Testing:  6\n"
          ]
        }
      ],
      "source": [
        "#Separar dados de treino e teste -> saravanansaminathan Kaggle -> https://www.kaggle.com/questions-and-answers/102677\n",
        "root_dir = IMAGE_PATH + '/' # data root path\n",
        "classes_dir = classes #total labels\n",
        "\n",
        "for cls in classes_dir:\n",
        "    os.makedirs(root_dir +'train/' + cls)\n",
        "    os.makedirs(root_dir +'val/' + cls)\n",
        "    os.makedirs(root_dir +'test/' + cls)\n",
        "\n",
        "\n",
        "for cls in classes_dir:\n",
        "    # Creating partitions of the data after shuffeling\n",
        "    src = root_dir + cls # Folder to copy images from\n",
        "\n",
        "    allFileNames = os.listdir(src)\n",
        "    np.random.shuffle(allFileNames)\n",
        "    train_FileNames, val_FileNames, test_FileNames = np.split(np.array(allFileNames),\n",
        "                                                          [int(len(allFileNames)* (1 - (val_ratio + test_ratio))), \n",
        "                                                           int(len(allFileNames)* (1 - test_ratio))])\n",
        "\n",
        "\n",
        "    train_FileNames = [src+'/'+ name for name in train_FileNames.tolist()]\n",
        "    val_FileNames = [src+'/' + name for name in val_FileNames.tolist()]\n",
        "    test_FileNames = [src+'/' + name for name in test_FileNames.tolist()]\n",
        "\n",
        "    print('Total images: ', len(allFileNames))\n",
        "    print('Training: ', len(train_FileNames))\n",
        "    print('Validation: ', len(val_FileNames))\n",
        "    print('Testing: ', len(test_FileNames))\n",
        "\n",
        "    # Copy-pasting images\n",
        "\n",
        "    for name in train_FileNames:\n",
        "        #print(\"Classe destino\", cls)\n",
        "        shutil.copy(name, root_dir +'train/' + cls)\n",
        "\n",
        "    for name in val_FileNames:\n",
        "      shutil.copy(name, root_dir +'val/' + cls)\n",
        "\n",
        "    for name in test_FileNames:\n",
        "        #print(\"Classe destino_2\", cls)\n",
        "        shutil.copy(name, root_dir +'test/' + cls)"
      ]
    },
    {
      "cell_type": "markdown",
      "metadata": {
        "id": "5kfNuXC1M3qx"
      },
      "source": [
        "**Data preparation**"
      ]
    },
    {
      "cell_type": "markdown",
      "metadata": {
        "id": "yhT1wJAmEQ_-"
      },
      "source": [
        "Data augmentation -> Somente nos dados de treino"
      ]
    },
    {
      "cell_type": "code",
      "execution_count": 15,
      "metadata": {
        "id": "6lOni2mFEUi4"
      },
      "outputs": [],
      "source": [
        "root_dir = IMAGE_PATH + '/train/' # data root path\n",
        "classes_dir = classes #total labels\n",
        "\n",
        "#Para cada classe (subpasta)\n",
        "for cls in classes_dir:\n",
        "    #Pego o diretorio da pasta\n",
        "    src = root_dir + cls # Folder to augment data\n",
        "    \n",
        "    #Listo todos os arquivos de uma classe\n",
        "    allFileNames = os.listdir(src)\n",
        "    \n",
        "    #Para cada arquivo:\n",
        "    for name in allFileNames:\n",
        "        \n",
        "        #Pego o diretorio da imagem\n",
        "        path = src+'/'+ name\n",
        "        \n",
        "        # Carrego a imagem\n",
        "        image = load_img(path)\n",
        "        # converter em array\n",
        "        image = img_to_array(image)\n",
        "        # adicionar uma dimensão extra no array\n",
        "        image = np.expand_dims(image, axis = 0)\n",
        "        \n",
        "        # create image data augmentation generator\n",
        "        dataGen = ImageDataGenerator(rotation_range=45, \n",
        "                                     width_shift_range=0.1,\n",
        "                                     height_shift_range=0.1, \n",
        "                                     zoom_range=0.25,\n",
        "                                     fill_mode='nearest', \n",
        "                                     horizontal_flip=True)\n",
        "        imgGen = dataGen.flow(image, save_to_dir=src,\n",
        "                             save_format='jpg', save_prefix='t27_')\n",
        "        # gerar 10 imagens por data augmentation\n",
        "        counter = 0\n",
        "        for (i, newImage) in enumerate(imgGen):\n",
        "            counter += 1\n",
        "\n",
        "            # ao gerar 10 imagens, parar o loop\n",
        "            if counter == 10:\n",
        "                break"
      ]
    },
    {
      "cell_type": "markdown",
      "metadata": {
        "id": "FIHsFj8PM6gn"
      },
      "source": [
        "**Modeling**"
      ]
    },
    {
      "cell_type": "raw",
      "metadata": {
        "id": "xXJNHTh45RUT"
      },
      "source": [
        "CNN usando Keras-> https://www.kaggle.com/prateek0x/multiclass-image-classification-using-keras"
      ]
    },
    {
      "cell_type": "code",
      "execution_count": 16,
      "metadata": {
        "id": "yMGCgCeM5RUY"
      },
      "outputs": [],
      "source": [
        "# Processing training data\n",
        "\n",
        "X_train = []       \n",
        "y_train = []\n",
        "shape = (IMAGE_WIDTH,IMAGE_HEIGHT)  \n",
        "root_dir = IMAGE_PATH + '/train/'\n",
        "classes_dir = classes\n",
        "\n",
        "#Para cada classe (subpasta)\n",
        "for cls in classes_dir:\n",
        "    #Pego o diretorio da pasta\n",
        "    src = root_dir + cls # Folder to augment data\n",
        "    \n",
        "    #Listo todos os arquivos de uma classe\n",
        "    allFileNames = os.listdir(src)\n",
        "    \n",
        "    #Para cada arquivo:\n",
        "    for name in allFileNames:\n",
        "        #Pego o diretorio da imagem\n",
        "        path = src+'/'+ name\n",
        "        \n",
        "        # Carrego a imagem (Original)\n",
        "        #image = cv2.imread(path)\n",
        "        #image = cv2.resize(image,dsize = shape)\n",
        "        #X_train.append(image)\n",
        "        \n",
        "        \n",
        "        image = load_img(path)\n",
        "        image = image.resize(shape)\n",
        "        image = img_to_array(image)\n",
        "        X_train.append(image)\n",
        "        \n",
        "        \n",
        "        #Le a label\n",
        "        y_train.append(cls)\n",
        "        \n",
        "# Converting train_images to array\n",
        "X_train = np.array(X_train)\n",
        "        \n",
        "#Convertendo labels to 1-hot-encoded\n",
        "y_train = pd.get_dummies(y_train).values\n",
        " \n",
        "# Splitting Training data into train and validation dataset\n",
        "#X_train,X_val,y_train,y_val = train_test_split(X_train,y_train,random_state=1)"
      ]
    },
    {
      "cell_type": "code",
      "source": [
        "# Processing validation data\n",
        "\n",
        "X_val = []       \n",
        "y_val = []\n",
        "shape = (IMAGE_WIDTH,IMAGE_HEIGHT)  \n",
        "root_dir = IMAGE_PATH + '/val/'\n",
        "classes_dir = classes\n",
        "\n",
        "#Para cada classe (subpasta)\n",
        "for cls in classes_dir:\n",
        "    #Pego o diretorio da pasta\n",
        "    src = root_dir + cls # Folder to augment data\n",
        "    \n",
        "    #Listo todos os arquivos de uma classe\n",
        "    allFileNames = os.listdir(src)\n",
        "    \n",
        "    #Para cada arquivo:\n",
        "    for name in allFileNames:\n",
        "        #Pego o diretorio da imagem\n",
        "        path = src+'/'+ name\n",
        "        \n",
        "        # Carrego a imagem (Original)\n",
        "        #image = cv2.imread(path)\n",
        "        #image = cv2.resize(image,dsize = shape)\n",
        "        #X_train.append(image)\n",
        "        \n",
        "        \n",
        "        image = load_img(path)\n",
        "        image = image.resize(shape)\n",
        "        image = img_to_array(image)\n",
        "        X_val.append(image)\n",
        "        \n",
        "        \n",
        "        #Le a label\n",
        "        y_val.append(cls)\n",
        "        \n",
        "# Converting train_images to array\n",
        "X_val = np.array(X_val)\n",
        "        \n",
        "#Convertendo labels to 1-hot-encoded\n",
        "y_val = pd.get_dummies(y_val).values"
      ],
      "metadata": {
        "id": "eRx61KmbXd5h"
      },
      "execution_count": 17,
      "outputs": []
    },
    {
      "cell_type": "code",
      "execution_count": null,
      "metadata": {
        "id": "K8T4jTpt5RUd"
      },
      "outputs": [],
      "source": [
        "# Visualizing Training data\n",
        "print(y_train[0])\n",
        "plt.imshow(X_train[0])"
      ]
    },
    {
      "cell_type": "code",
      "execution_count": 18,
      "metadata": {
        "id": "mTHplAaB5RUi"
      },
      "outputs": [],
      "source": [
        "# Processing test data\n",
        "\n",
        "X_test = []       \n",
        "y_test = []\n",
        "shape = (IMAGE_WIDTH,IMAGE_HEIGHT)  \n",
        "root_dir = IMAGE_PATH + '/test/'\n",
        "\n",
        "#Para cada classe (subpasta)\n",
        "for cls in classes_dir:\n",
        "    #Pego o diretorio da pasta\n",
        "    src = root_dir + cls # Folder to augment data\n",
        "    \n",
        "    #Listo todos os arquivos de uma classe\n",
        "    allFileNames = os.listdir(src)\n",
        "    \n",
        "    #Para cada arquivo:\n",
        "    for name in allFileNames:\n",
        "        #Pego o diretorio da imagem\n",
        "        path = src+'/'+ name\n",
        "        \n",
        "        # Carrego a imagem\n",
        "        image = load_img(path)\n",
        "        image = image.resize(shape)\n",
        "        image = img_to_array(image)\n",
        "        X_test.append(image)\n",
        "        \n",
        "        \n",
        "        #Le a label\n",
        "        y_test.append(cls)\n",
        "        \n",
        "\n",
        "#Convertendo imagens para arrays\n",
        "X_test = np.array(X_test)"
      ]
    },
    {
      "cell_type": "code",
      "execution_count": 19,
      "metadata": {
        "id": "SfBErnZ65RUk",
        "colab": {
          "base_uri": "https://localhost:8080/",
          "height": 302
        },
        "outputId": "82f9c640-44a1-46fe-a6c4-89dc0cb39c8a"
      },
      "outputs": [
        {
          "output_type": "stream",
          "name": "stdout",
          "text": [
            "Andalusite\n"
          ]
        },
        {
          "output_type": "execute_result",
          "data": {
            "text/plain": [
              "<matplotlib.image.AxesImage at 0x7f83fe750f10>"
            ]
          },
          "metadata": {},
          "execution_count": 19
        },
        {
          "output_type": "display_data",
          "data": {
            "image/png": "[encoded data removed]",
            "text/plain": [
              "<Figure size 432x288 with 1 Axes>"
            ]
          },
          "metadata": {
            "needs_background": "light"
          }
        }
      ],
      "source": [
        "# Visualizing Testing data\n",
        "print(y_test[0])\n",
        "plt.imshow(X_test[0].astype(int))"
      ]
    },
    {
      "cell_type": "code",
      "execution_count": 20,
      "metadata": {
        "scrolled": true,
        "id": "HUVYfgBX5RUn",
        "colab": {
          "base_uri": "https://localhost:8080/"
        },
        "outputId": "107e4d78-c3ef-45b9-ed83-76c5d1829272"
      },
      "outputs": [
        {
          "output_type": "stream",
          "name": "stdout",
          "text": [
            "Model: \"sequential\"\n",
            "_________________________________________________________________\n",
            " Layer (type)                Output Shape              Param #   \n",
            "=================================================================\n",
            " conv2d (Conv2D)             (None, 28, 28, 32)        896       \n",
            "                                                                 \n",
            " conv2d_1 (Conv2D)           (None, 26, 26, 30)        8670      \n",
            "                                                                 \n",
            " max_pooling2d (MaxPooling2D  (None, 13, 13, 30)       0         \n",
            " )                                                               \n",
            "                                                                 \n",
            " conv2d_2 (Conv2D)           (None, 11, 11, 30)        8130      \n",
            "                                                                 \n",
            " max_pooling2d_1 (MaxPooling  (None, 5, 5, 30)         0         \n",
            " 2D)                                                             \n",
            "                                                                 \n",
            " conv2d_3 (Conv2D)           (None, 3, 3, 30)          8130      \n",
            "                                                                 \n",
            " flatten (Flatten)           (None, 270)               0         \n",
            "                                                                 \n",
            " dense (Dense)               (None, 20)                5420      \n",
            "                                                                 \n",
            " dense_1 (Dense)             (None, 15)                315       \n",
            "                                                                 \n",
            " dense_2 (Dense)             (None, 2)                 32        \n",
            "                                                                 \n",
            "=================================================================\n",
            "Total params: 31,593\n",
            "Trainable params: 31,593\n",
            "Non-trainable params: 0\n",
            "_________________________________________________________________\n"
          ]
        }
      ],
      "source": [
        "# Creating a Sequential model\n",
        "model= Sequential()\n",
        "model.add(Conv2D(kernel_size=(3,3), filters=32, activation='tanh', input_shape=(shape[0],shape[1],3)))\n",
        "model.add(Conv2D(filters=30,kernel_size = (3,3),activation='tanh'))\n",
        "model.add(MaxPool2D(2,2))\n",
        "model.add(Conv2D(filters=30,kernel_size = (3,3),activation='tanh'))\n",
        "model.add(MaxPool2D(2,2))\n",
        "model.add(Conv2D(filters=30,kernel_size = (3,3),activation='tanh'))\n",
        "\n",
        "model.add(Flatten())\n",
        "\n",
        "model.add(Dense(20,activation='relu'))\n",
        "model.add(Dense(15,activation='relu'))\n",
        "model.add(Dense(len(classes),activation = 'softmax'))\n",
        "    \n",
        "model.compile(\n",
        "              loss='categorical_crossentropy', \n",
        "              metrics=['acc'],\n",
        "              optimizer='adam'\n",
        "             )\n",
        "# Model Summary\n",
        "model.summary()"
      ]
    },
    {
      "cell_type": "code",
      "execution_count": 21,
      "metadata": {
        "id": "qZxv7oYj5RUp",
        "colab": {
          "base_uri": "https://localhost:8080/"
        },
        "outputId": "77e2a16f-51cd-4c4d-de72-737d930d4668"
      },
      "outputs": [
        {
          "output_type": "stream",
          "name": "stdout",
          "text": [
            "Learning rate before first fit: 0.001\n",
            "Epoch 1/100\n",
            "8/8 [==============================] - 2s 185ms/step - loss: 0.6513 - acc: 0.6952 - val_loss: 0.6526 - val_acc: 0.5000\n",
            "Epoch 2/100\n",
            "8/8 [==============================] - 1s 129ms/step - loss: 0.5797 - acc: 0.7265 - val_loss: 0.4350 - val_acc: 0.9000\n",
            "Epoch 3/100\n",
            "8/8 [==============================] - 1s 104ms/step - loss: 0.4231 - acc: 0.8348 - val_loss: 0.6191 - val_acc: 0.6000\n",
            "Epoch 4/100\n",
            "8/8 [==============================] - 1s 105ms/step - loss: 0.6938 - acc: 0.6211 - val_loss: 0.5768 - val_acc: 0.6000\n",
            "Epoch 5/100\n",
            "8/8 [==============================] - 1s 101ms/step - loss: 0.4255 - acc: 0.8319 - val_loss: 0.2438 - val_acc: 1.0000\n",
            "Epoch 6/100\n",
            "8/8 [==============================] - 1s 101ms/step - loss: 0.3035 - acc: 0.9031 - val_loss: 0.1926 - val_acc: 1.0000\n",
            "Epoch 7/100\n",
            "8/8 [==============================] - 1s 103ms/step - loss: 0.2314 - acc: 0.9145 - val_loss: 0.1590 - val_acc: 0.9000\n",
            "Epoch 8/100\n",
            "8/8 [==============================] - 1s 104ms/step - loss: 0.1772 - acc: 0.9430 - val_loss: 0.0764 - val_acc: 1.0000\n",
            "Epoch 9/100\n",
            "8/8 [==============================] - 1s 102ms/step - loss: 0.1623 - acc: 0.9345 - val_loss: 0.0595 - val_acc: 1.0000\n",
            "Epoch 10/100\n",
            "8/8 [==============================] - 1s 103ms/step - loss: 0.1037 - acc: 0.9715 - val_loss: 0.0444 - val_acc: 1.0000\n",
            "Epoch 11/100\n",
            "8/8 [==============================] - 1s 103ms/step - loss: 0.0657 - acc: 0.9886 - val_loss: 0.0308 - val_acc: 1.0000\n",
            "Epoch 12/100\n",
            "8/8 [==============================] - 2s 209ms/step - loss: 0.0341 - acc: 1.0000 - val_loss: 0.0254 - val_acc: 1.0000\n",
            "Epoch 13/100\n",
            "8/8 [==============================] - 2s 202ms/step - loss: 0.0204 - acc: 0.9972 - val_loss: 0.0123 - val_acc: 1.0000\n",
            "Epoch 14/100\n",
            "8/8 [==============================] - 1s 103ms/step - loss: 0.0115 - acc: 1.0000 - val_loss: 0.0076 - val_acc: 1.0000\n",
            "Epoch 15/100\n",
            "8/8 [==============================] - 1s 107ms/step - loss: 0.0070 - acc: 1.0000 - val_loss: 0.0051 - val_acc: 1.0000\n",
            "Epoch 16/100\n",
            "8/8 [==============================] - 1s 106ms/step - loss: 0.0048 - acc: 1.0000 - val_loss: 0.0037 - val_acc: 1.0000\n",
            "Epoch 17/100\n",
            "8/8 [==============================] - 1s 105ms/step - loss: 0.0033 - acc: 1.0000 - val_loss: 0.0032 - val_acc: 1.0000\n",
            "Epoch 18/100\n",
            "8/8 [==============================] - 1s 107ms/step - loss: 0.0026 - acc: 1.0000 - val_loss: 0.0025 - val_acc: 1.0000\n",
            "Epoch 19/100\n",
            "8/8 [==============================] - 1s 101ms/step - loss: 0.0022 - acc: 1.0000 - val_loss: 0.0021 - val_acc: 1.0000\n",
            "Epoch 20/100\n",
            "8/8 [==============================] - 1s 103ms/step - loss: 0.0018 - acc: 1.0000 - val_loss: 0.0018 - val_acc: 1.0000\n",
            "Epoch 21/100\n",
            "8/8 [==============================] - 1s 103ms/step - loss: 0.0015 - acc: 1.0000 - val_loss: 0.0015 - val_acc: 1.0000\n",
            "Epoch 22/100\n",
            "8/8 [==============================] - 1s 104ms/step - loss: 0.0013 - acc: 1.0000 - val_loss: 0.0014 - val_acc: 1.0000\n",
            "Epoch 23/100\n",
            "8/8 [==============================] - 1s 103ms/step - loss: 0.0012 - acc: 1.0000 - val_loss: 0.0012 - val_acc: 1.0000\n",
            "Epoch 24/100\n",
            "8/8 [==============================] - 1s 105ms/step - loss: 0.0011 - acc: 1.0000 - val_loss: 0.0012 - val_acc: 1.0000\n",
            "Epoch 25/100\n",
            "8/8 [==============================] - 1s 104ms/step - loss: 8.9017e-04 - acc: 1.0000 - val_loss: 9.2026e-04 - val_acc: 1.0000\n",
            "Epoch 26/100\n",
            "8/8 [==============================] - 1s 102ms/step - loss: 8.3848e-04 - acc: 1.0000 - val_loss: 8.6299e-04 - val_acc: 1.0000\n",
            "Epoch 27/100\n",
            "8/8 [==============================] - 1s 104ms/step - loss: 7.2999e-04 - acc: 1.0000 - val_loss: 7.3433e-04 - val_acc: 1.0000\n",
            "Epoch 28/100\n",
            "8/8 [==============================] - 1s 103ms/step - loss: 0.0031 - acc: 1.0000 - val_loss: 0.0068 - val_acc: 1.0000\n",
            "Epoch 29/100\n",
            "8/8 [==============================] - 1s 101ms/step - loss: 0.0099 - acc: 0.9943 - val_loss: 0.0021 - val_acc: 1.0000\n",
            "Epoch 30/100\n",
            "8/8 [==============================] - 1s 105ms/step - loss: 0.0025 - acc: 1.0000 - val_loss: 9.2516e-04 - val_acc: 1.0000\n",
            "Epoch 31/100\n",
            "8/8 [==============================] - 1s 104ms/step - loss: 0.0819 - acc: 0.9658 - val_loss: 0.0057 - val_acc: 1.0000\n",
            "Epoch 32/100\n",
            "8/8 [==============================] - 1s 104ms/step - loss: 0.1460 - acc: 0.9516 - val_loss: 0.0078 - val_acc: 1.0000\n",
            "Epoch 33/100\n",
            "8/8 [==============================] - 1s 106ms/step - loss: 0.0757 - acc: 0.9772 - val_loss: 0.0047 - val_acc: 1.0000\n",
            "Epoch 34/100\n",
            "8/8 [==============================] - 1s 106ms/step - loss: 0.0353 - acc: 0.9886 - val_loss: 0.0012 - val_acc: 1.0000\n",
            "Epoch 35/100\n",
            "8/8 [==============================] - 1s 108ms/step - loss: 0.0145 - acc: 0.9943 - val_loss: 8.9456e-04 - val_acc: 1.0000\n",
            "Epoch 36/100\n",
            "8/8 [==============================] - 1s 104ms/step - loss: 0.0029 - acc: 1.0000 - val_loss: 0.0015 - val_acc: 1.0000\n",
            "Epoch 37/100\n",
            "8/8 [==============================] - 1s 106ms/step - loss: 0.0016 - acc: 1.0000 - val_loss: 9.4604e-04 - val_acc: 1.0000\n",
            "Epoch 38/100\n",
            "8/8 [==============================] - 1s 108ms/step - loss: 0.0012 - acc: 1.0000 - val_loss: 0.0010 - val_acc: 1.0000\n",
            "Epoch 39/100\n",
            "8/8 [==============================] - 1s 112ms/step - loss: 0.0011 - acc: 1.0000 - val_loss: 7.7824e-04 - val_acc: 1.0000\n",
            "Epoch 40/100\n",
            "8/8 [==============================] - 1s 105ms/step - loss: 7.3408e-04 - acc: 1.0000 - val_loss: 7.3126e-04 - val_acc: 1.0000\n",
            "Epoch 41/100\n",
            "8/8 [==============================] - 1s 107ms/step - loss: 7.1871e-04 - acc: 1.0000 - val_loss: 6.9759e-04 - val_acc: 1.0000\n",
            "Epoch 42/100\n",
            "8/8 [==============================] - 1s 103ms/step - loss: 6.3104e-04 - acc: 1.0000 - val_loss: 6.2730e-04 - val_acc: 1.0000\n",
            "Epoch 43/100\n",
            "8/8 [==============================] - 1s 103ms/step - loss: 5.3748e-04 - acc: 1.0000 - val_loss: 5.5942e-04 - val_acc: 1.0000\n",
            "Epoch 44/100\n",
            "8/8 [==============================] - 1s 106ms/step - loss: 4.7966e-04 - acc: 1.0000 - val_loss: 5.1251e-04 - val_acc: 1.0000\n",
            "Epoch 45/100\n",
            "8/8 [==============================] - 1s 105ms/step - loss: 4.6308e-04 - acc: 1.0000 - val_loss: 4.8048e-04 - val_acc: 1.0000\n",
            "Epoch 46/100\n",
            "8/8 [==============================] - 1s 107ms/step - loss: 4.5494e-04 - acc: 1.0000 - val_loss: 4.5506e-04 - val_acc: 1.0000\n",
            "Epoch 47/100\n",
            "8/8 [==============================] - 1s 107ms/step - loss: 4.2260e-04 - acc: 1.0000 - val_loss: 4.2274e-04 - val_acc: 1.0000\n",
            "Epoch 48/100\n",
            "8/8 [==============================] - 1s 104ms/step - loss: 3.8372e-04 - acc: 1.0000 - val_loss: 3.9594e-04 - val_acc: 1.0000\n",
            "Epoch 49/100\n",
            "8/8 [==============================] - 1s 105ms/step - loss: 3.4887e-04 - acc: 1.0000 - val_loss: 3.7800e-04 - val_acc: 1.0000\n",
            "Epoch 50/100\n",
            "8/8 [==============================] - 1s 107ms/step - loss: 3.2869e-04 - acc: 1.0000 - val_loss: 3.6613e-04 - val_acc: 1.0000\n",
            "Epoch 51/100\n",
            "8/8 [==============================] - 1s 106ms/step - loss: 3.1210e-04 - acc: 1.0000 - val_loss: 3.5478e-04 - val_acc: 1.0000\n",
            "Epoch 52/100\n",
            "8/8 [==============================] - 1s 105ms/step - loss: 2.9760e-04 - acc: 1.0000 - val_loss: 3.4461e-04 - val_acc: 1.0000\n",
            "Epoch 53/100\n",
            "8/8 [==============================] - 1s 107ms/step - loss: 2.8398e-04 - acc: 1.0000 - val_loss: 3.3446e-04 - val_acc: 1.0000\n",
            "Epoch 54/100\n",
            "8/8 [==============================] - 1s 103ms/step - loss: 2.7127e-04 - acc: 1.0000 - val_loss: 3.2437e-04 - val_acc: 1.0000\n",
            "Epoch 55/100\n",
            "8/8 [==============================] - 1s 102ms/step - loss: 2.6046e-04 - acc: 1.0000 - val_loss: 3.1532e-04 - val_acc: 1.0000\n",
            "Epoch 56/100\n",
            "8/8 [==============================] - 1s 109ms/step - loss: 2.5110e-04 - acc: 1.0000 - val_loss: 3.0590e-04 - val_acc: 1.0000\n",
            "Epoch 57/100\n",
            "8/8 [==============================] - 1s 107ms/step - loss: 2.4252e-04 - acc: 1.0000 - val_loss: 2.9706e-04 - val_acc: 1.0000\n",
            "Epoch 58/100\n",
            "8/8 [==============================] - 1s 104ms/step - loss: 2.3457e-04 - acc: 1.0000 - val_loss: 2.8777e-04 - val_acc: 1.0000\n",
            "Epoch 59/100\n",
            "8/8 [==============================] - 1s 106ms/step - loss: 2.2695e-04 - acc: 1.0000 - val_loss: 2.7922e-04 - val_acc: 1.0000\n",
            "Epoch 60/100\n",
            "8/8 [==============================] - 1s 102ms/step - loss: 2.1888e-04 - acc: 1.0000 - val_loss: 2.7647e-04 - val_acc: 1.0000\n",
            "Epoch 61/100\n",
            "8/8 [==============================] - 1s 104ms/step - loss: 2.1132e-04 - acc: 1.0000 - val_loss: 2.7058e-04 - val_acc: 1.0000\n",
            "Epoch 62/100\n",
            "8/8 [==============================] - 1s 104ms/step - loss: 2.0457e-04 - acc: 1.0000 - val_loss: 2.6195e-04 - val_acc: 1.0000\n",
            "Epoch 63/100\n",
            "8/8 [==============================] - 1s 106ms/step - loss: 1.9861e-04 - acc: 1.0000 - val_loss: 2.5252e-04 - val_acc: 1.0000\n",
            "Epoch 64/100\n",
            "8/8 [==============================] - 1s 108ms/step - loss: 1.9242e-04 - acc: 1.0000 - val_loss: 2.4442e-04 - val_acc: 1.0000\n",
            "Epoch 65/100\n",
            "8/8 [==============================] - 1s 104ms/step - loss: 1.8645e-04 - acc: 1.0000 - val_loss: 2.3725e-04 - val_acc: 1.0000\n",
            "Epoch 66/100\n",
            "8/8 [==============================] - 1s 107ms/step - loss: 1.8091e-04 - acc: 1.0000 - val_loss: 2.3062e-04 - val_acc: 1.0000\n",
            "Epoch 67/100\n",
            "8/8 [==============================] - 1s 104ms/step - loss: 1.7568e-04 - acc: 1.0000 - val_loss: 2.2457e-04 - val_acc: 1.0000\n",
            "Epoch 68/100\n",
            "8/8 [==============================] - 1s 109ms/step - loss: 1.7060e-04 - acc: 1.0000 - val_loss: 2.1865e-04 - val_acc: 1.0000\n",
            "Epoch 69/100\n",
            "8/8 [==============================] - 1s 105ms/step - loss: 1.6581e-04 - acc: 1.0000 - val_loss: 2.1200e-04 - val_acc: 1.0000\n",
            "Epoch 70/100\n",
            "8/8 [==============================] - 1s 109ms/step - loss: 1.6091e-04 - acc: 1.0000 - val_loss: 2.0686e-04 - val_acc: 1.0000\n",
            "Epoch 71/100\n",
            "8/8 [==============================] - 1s 175ms/step - loss: 1.5619e-04 - acc: 1.0000 - val_loss: 2.0111e-04 - val_acc: 1.0000\n",
            "Epoch 72/100\n",
            "8/8 [==============================] - 1s 176ms/step - loss: 1.5183e-04 - acc: 1.0000 - val_loss: 1.9534e-04 - val_acc: 1.0000\n",
            "Epoch 73/100\n",
            "8/8 [==============================] - 1s 125ms/step - loss: 1.4760e-04 - acc: 1.0000 - val_loss: 1.9013e-04 - val_acc: 1.0000\n",
            "Epoch 74/100\n",
            "8/8 [==============================] - 1s 106ms/step - loss: 1.4361e-04 - acc: 1.0000 - val_loss: 1.8541e-04 - val_acc: 1.0000\n",
            "Epoch 75/100\n",
            "8/8 [==============================] - 1s 105ms/step - loss: 1.4011e-04 - acc: 1.0000 - val_loss: 1.8081e-04 - val_acc: 1.0000\n",
            "Epoch 76/100\n",
            "8/8 [==============================] - 1s 101ms/step - loss: 1.3660e-04 - acc: 1.0000 - val_loss: 1.7680e-04 - val_acc: 1.0000\n",
            "Epoch 77/100\n",
            "8/8 [==============================] - 1s 103ms/step - loss: 1.3322e-04 - acc: 1.0000 - val_loss: 1.7139e-04 - val_acc: 1.0000\n",
            "Epoch 78/100\n",
            "8/8 [==============================] - 1s 105ms/step - loss: 1.2971e-04 - acc: 1.0000 - val_loss: 1.6760e-04 - val_acc: 1.0000\n",
            "Epoch 79/100\n",
            "8/8 [==============================] - 1s 110ms/step - loss: 1.2659e-04 - acc: 1.0000 - val_loss: 1.6339e-04 - val_acc: 1.0000\n",
            "Epoch 80/100\n",
            "8/8 [==============================] - 1s 107ms/step - loss: 1.2360e-04 - acc: 1.0000 - val_loss: 1.6007e-04 - val_acc: 1.0000\n",
            "Epoch 81/100\n",
            "8/8 [==============================] - 1s 105ms/step - loss: 1.2089e-04 - acc: 1.0000 - val_loss: 1.5640e-04 - val_acc: 1.0000\n",
            "Epoch 82/100\n",
            "8/8 [==============================] - 1s 106ms/step - loss: 1.1820e-04 - acc: 1.0000 - val_loss: 1.5256e-04 - val_acc: 1.0000\n",
            "Epoch 83/100\n",
            "8/8 [==============================] - 1s 107ms/step - loss: 1.1565e-04 - acc: 1.0000 - val_loss: 1.4925e-04 - val_acc: 1.0000\n",
            "Epoch 84/100\n",
            "8/8 [==============================] - 1s 105ms/step - loss: 1.1318e-04 - acc: 1.0000 - val_loss: 1.4619e-04 - val_acc: 1.0000\n",
            "Epoch 85/100\n",
            "8/8 [==============================] - 1s 107ms/step - loss: 1.1092e-04 - acc: 1.0000 - val_loss: 1.4304e-04 - val_acc: 1.0000\n",
            "Epoch 86/100\n",
            "8/8 [==============================] - 1s 106ms/step - loss: 1.0853e-04 - acc: 1.0000 - val_loss: 1.3993e-04 - val_acc: 1.0000\n",
            "Epoch 87/100\n",
            "8/8 [==============================] - 1s 104ms/step - loss: 1.0635e-04 - acc: 1.0000 - val_loss: 1.3638e-04 - val_acc: 1.0000\n",
            "Epoch 88/100\n",
            "8/8 [==============================] - 1s 106ms/step - loss: 1.0402e-04 - acc: 1.0000 - val_loss: 1.3365e-04 - val_acc: 1.0000\n",
            "Epoch 89/100\n",
            "8/8 [==============================] - 1s 108ms/step - loss: 1.0180e-04 - acc: 1.0000 - val_loss: 1.3113e-04 - val_acc: 1.0000\n",
            "Epoch 90/100\n",
            "8/8 [==============================] - 1s 108ms/step - loss: 9.9640e-05 - acc: 1.0000 - val_loss: 1.2895e-04 - val_acc: 1.0000\n",
            "Epoch 91/100\n",
            "8/8 [==============================] - 1s 110ms/step - loss: 9.7384e-05 - acc: 1.0000 - val_loss: 1.2700e-04 - val_acc: 1.0000\n",
            "Epoch 92/100\n",
            "8/8 [==============================] - 1s 107ms/step - loss: 9.5205e-05 - acc: 1.0000 - val_loss: 1.2498e-04 - val_acc: 1.0000\n",
            "Epoch 93/100\n",
            "8/8 [==============================] - 1s 105ms/step - loss: 9.3023e-05 - acc: 1.0000 - val_loss: 1.2278e-04 - val_acc: 1.0000\n",
            "Epoch 94/100\n",
            "8/8 [==============================] - 1s 102ms/step - loss: 9.1029e-05 - acc: 1.0000 - val_loss: 1.2067e-04 - val_acc: 1.0000\n",
            "Epoch 95/100\n",
            "8/8 [==============================] - 1s 107ms/step - loss: 8.9066e-05 - acc: 1.0000 - val_loss: 1.1854e-04 - val_acc: 1.0000\n",
            "Epoch 96/100\n",
            "8/8 [==============================] - 1s 107ms/step - loss: 8.7298e-05 - acc: 1.0000 - val_loss: 1.1655e-04 - val_acc: 1.0000\n",
            "Epoch 97/100\n",
            "8/8 [==============================] - 1s 108ms/step - loss: 8.5613e-05 - acc: 1.0000 - val_loss: 1.1466e-04 - val_acc: 1.0000\n",
            "Epoch 98/100\n",
            "8/8 [==============================] - 1s 107ms/step - loss: 8.3929e-05 - acc: 1.0000 - val_loss: 1.1333e-04 - val_acc: 1.0000\n",
            "Epoch 99/100\n",
            "8/8 [==============================] - 1s 105ms/step - loss: 8.2154e-05 - acc: 1.0000 - val_loss: 1.1164e-04 - val_acc: 1.0000\n",
            "Epoch 100/100\n",
            "8/8 [==============================] - 1s 104ms/step - loss: 8.0608e-05 - acc: 1.0000 - val_loss: 1.0966e-04 - val_acc: 1.0000\n"
          ]
        }
      ],
      "source": [
        "# Training the model\n",
        "print(\"Learning rate before first fit:\", model.optimizer.learning_rate.numpy())\n",
        "history = model.fit(X_train,y_train,epochs=100,batch_size=50,validation_data=(X_val,y_val))"
      ]
    },
    {
      "cell_type": "code",
      "source": [
        "#K.set_value(model.optimizer.learning_rate, 0.5)\n",
        "#print(\"Learning rate before second fit:\", model.optimizer.learning_rate.numpy())\n",
        "#history = model.fit(X_train,y_train,epochs=200,batch_size=50,validation_data=(X_val,y_val))"
      ],
      "metadata": {
        "id": "HlY35Yw937RO"
      },
      "execution_count": null,
      "outputs": []
    },
    {
      "cell_type": "markdown",
      "metadata": {
        "id": "tg9Y0DAtM-fP"
      },
      "source": [
        "**Evaluation**"
      ]
    },
    {
      "cell_type": "code",
      "source": [
        "# summarize history for accuracy\n",
        "plt.plot(history.history['acc'])\n",
        "plt.plot(history.history['val_acc'])\n",
        "plt.title('model accuracy')\n",
        "plt.ylabel('accuracy')\n",
        "plt.xlabel('epoch')\n",
        "plt.legend(['train', 'test'], loc='upper left')\n",
        "plt.show()"
      ],
      "metadata": {
        "id": "Rzwc7pHtKRGb",
        "colab": {
          "base_uri": "https://localhost:8080/",
          "height": 295
        },
        "outputId": "6e394bd5-2372-4e88-80b8-612f03e6bf3f"
      },
      "execution_count": 22,
      "outputs": [
        {
          "output_type": "display_data",
          "data": {
            "image/png": "[encoded data removed]",
            "text/plain": [
              "<Figure size 432x288 with 1 Axes>"
            ]
          },
          "metadata": {
            "needs_background": "light"
          }
        }
      ]
    },
    {
      "cell_type": "code",
      "source": [
        "# summarize history for loss\n",
        "plt.plot(history.history['loss'])\n",
        "plt.plot(history.history['val_loss'])\n",
        "plt.title('model loss')\n",
        "plt.ylabel('loss')\n",
        "plt.xlabel('epoch')\n",
        "plt.legend(['train', 'test'], loc='upper left')\n",
        "plt.show()"
      ],
      "metadata": {
        "id": "nqLFQ1LZSNen",
        "colab": {
          "base_uri": "https://localhost:8080/",
          "height": 295
        },
        "outputId": "f896e250-ea18-443f-907b-6a38d64faebe"
      },
      "execution_count": 23,
      "outputs": [
        {
          "output_type": "display_data",
          "data": {
            "image/png": "[encoded data removed]",
            "text/plain": [
              "<Figure size 432x288 with 1 Axes>"
            ]
          },
          "metadata": {
            "needs_background": "light"
          }
        }
      ]
    },
    {
      "cell_type": "code",
      "source": [
        "# Evaluating model on validation data\n",
        "evaluate = model.evaluate(X_val,y_val)\n",
        "print(evaluate)"
      ],
      "metadata": {
        "id": "iR-Yte9jSP_0",
        "colab": {
          "base_uri": "https://localhost:8080/"
        },
        "outputId": "28667fcd-ec88-42c6-af9f-fd90dab10ac3"
      },
      "execution_count": 24,
      "outputs": [
        {
          "output_type": "stream",
          "name": "stdout",
          "text": [
            "1/1 [==============================] - 0s 31ms/step - loss: 1.0966e-04 - acc: 1.0000\n",
            "[0.00010965714318444952, 1.0]\n"
          ]
        }
      ]
    },
    {
      "cell_type": "code",
      "source": [
        "# Testing predictions and the actual label\n",
        "checkImage = X_test[0:1]\n",
        "checklabel = y_test[0:1]\n",
        "\n",
        "predict = model.predict(np.array(checkImage))\n",
        "\n",
        "#output = { 0:'Andalusite',1:'Beryl',2:'Biotite',3:'Calcite',4:'Cancrinite',5:'Fluorite',6:'Garnets',7:'Gold',8:'Lazulite',9:'Muscovite',10:'Olivine',11:'Quartz',12:'Sodalite',13:'Titanite (sphene)',14:'Topaz',15:'Tourmaline'}\n",
        "output = { 0:'Andalusite',1:'Lazulite'}\n",
        "\n",
        "print(\"Actual :- \",checklabel)\n",
        "print(\"Predicted :- \",output[np.argmax(predict)])\n",
        "\n",
        "plt.imshow(X_test[0].astype(int))"
      ],
      "metadata": {
        "id": "bVSVBtsUSYNt",
        "colab": {
          "base_uri": "https://localhost:8080/",
          "height": 321
        },
        "outputId": "f9988f21-467f-4f39-bb8e-3ffc540d1310"
      },
      "execution_count": 25,
      "outputs": [
        {
          "output_type": "stream",
          "name": "stdout",
          "text": [
            "Actual :-  ['Andalusite']\n",
            "Predicted :-  Andalusite\n"
          ]
        },
        {
          "output_type": "execute_result",
          "data": {
            "text/plain": [
              "<matplotlib.image.AxesImage at 0x7f83f86a7e50>"
            ]
          },
          "metadata": {},
          "execution_count": 25
        },
        {
          "output_type": "display_data",
          "data": {
            "image/png": "[encoded data removed]",
            "text/plain": [
              "<Figure size 432x288 with 1 Axes>"
            ]
          },
          "metadata": {
            "needs_background": "light"
          }
        }
      ]
    },
    {
      "cell_type": "code",
      "source": [
        "# Testing predictions and the actual label\n",
        "checkImage = X_test\n",
        "checklabel = y_test\n",
        "a = 0\n",
        "\n",
        "#output = { 0:'Andalusite',1:'Beryl',2:'Biotite',3:'Calcite',4:'Cancrinite',5:'Fluorite',6:'Garnets',7:'Gold',8:'Lazulite',9:'Muscovite',10:'Olivine',11:'Quartz',12:'Sodalite',13:'Titanite (sphene)',14:'Topaz',15:'Tourmaline'}\n",
        "output = { 0:'Andalusite',1:'Lazulite'}\n",
        "\n",
        "for i in checkImage : \n",
        "  predict = model.predict(np.expand_dims(i, axis=0))\n",
        "  plt.imshow(i.astype(int))\n",
        "  print(\"Predicted :- \",output[np.argmax(predict)])\n",
        "  print(\"Actual :- \",checklabel[a])\n",
        "  plt.show(block=True)\n",
        "  a += 1 \n",
        "  #print(a)\n",
        "\n",
        "  #plt.imshow(i.astype(int))"
      ],
      "metadata": {
        "id": "H2dD2tMGgnnN",
        "colab": {
          "base_uri": "https://localhost:8080/",
          "height": 1000
        },
        "outputId": "16e80fca-1a65-40a5-cac8-1bfb2a4b8e27"
      },
      "execution_count": 26,
      "outputs": [
        {
          "output_type": "stream",
          "name": "stdout",
          "text": [
            "Predicted :-  Andalusite\n",
            "Actual :-  Andalusite\n"
          ]
        },
        {
          "output_type": "display_data",
          "data": {
            "image/png": "[encoded data removed]",
            "text/plain": [
              "<Figure size 432x288 with 1 Axes>"
            ]
          },
          "metadata": {
            "needs_background": "light"
          }
        },
        {
          "output_type": "stream",
          "name": "stdout",
          "text": [
            "Predicted :-  Andalusite\n",
            "Actual :-  Andalusite\n"
          ]
        },
        {
          "output_type": "display_data",
          "data": {
            "image/png": "[encoded data removed]",
            "text/plain": [
              "<Figure size 432x288 with 1 Axes>"
            ]
          },
          "metadata": {
            "needs_background": "light"
          }
        },
        {
          "output_type": "stream",
          "name": "stdout",
          "text": [
            "Predicted :-  Andalusite\n",
            "Actual :-  Andalusite\n"
          ]
        },
        {
          "output_type": "display_data",
          "data": {
            "image/png": "[encoded data removed]",
            "text/plain": [
              "<Figure size 432x288 with 1 Axes>"
            ]
          },
          "metadata": {
            "needs_background": "light"
          }
        },
        {
          "output_type": "stream",
          "name": "stdout",
          "text": [
            "Predicted :-  Andalusite\n",
            "Actual :-  Andalusite\n"
          ]
        },
        {
          "output_type": "display_data",
          "data": {
            "image/png": "[encoded data removed]",
            "text/plain": [
              "<Figure size 432x288 with 1 Axes>"
            ]
          },
          "metadata": {
            "needs_background": "light"
          }
        },
        {
          "output_type": "stream",
          "name": "stdout",
          "text": [
            "Predicted :-  Andalusite\n",
            "Actual :-  Andalusite\n"
          ]
        },
        {
          "output_type": "display_data",
          "data": {
            "image/png": "[encoded data removed]",
            "text/plain": [
              "<Figure size 432x288 with 1 Axes>"
            ]
          },
          "metadata": {
            "needs_background": "light"
          }
        },
        {
          "output_type": "stream",
          "name": "stdout",
          "text": [
            "Predicted :-  Andalusite\n",
            "Actual :-  Andalusite\n"
          ]
        },
        {
          "output_type": "display_data",
          "data": {
            "image/png": "[encoded data removed]",
            "text/plain": [
              "<Figure size 432x288 with 1 Axes>"
            ]
          },
          "metadata": {
            "needs_background": "light"
          }
        },
        {
          "output_type": "stream",
          "name": "stdout",
          "text": [
            "Predicted :-  Lazulite\n",
            "Actual :-  Lazulite\n"
          ]
        },
        {
          "output_type": "display_data",
          "data": {
            "image/png": "[encoded data removed]",
            "text/plain": [
              "<Figure size 432x288 with 1 Axes>"
            ]
          },
          "metadata": {
            "needs_background": "light"
          }
        },
        {
          "output_type": "stream",
          "name": "stdout",
          "text": [
            "Predicted :-  Lazulite\n",
            "Actual :-  Lazulite\n"
          ]
        },
        {
          "output_type": "display_data",
          "data": {
            "image/png": "[encoded data removed]",
            "text/plain": [
              "<Figure size 432x288 with 1 Axes>"
            ]
          },
          "metadata": {
            "needs_background": "light"
          }
        },
        {
          "output_type": "stream",
          "name": "stdout",
          "text": [
            "Predicted :-  Lazulite\n",
            "Actual :-  Lazulite\n"
          ]
        },
        {
          "output_type": "display_data",
          "data": {
            "image/png": "[encoded data removed]",
            "text/plain": [
              "<Figure size 432x288 with 1 Axes>"
            ]
          },
          "metadata": {
            "needs_background": "light"
          }
        },
        {
          "output_type": "stream",
          "name": "stdout",
          "text": [
            "Predicted :-  Lazulite\n",
            "Actual :-  Lazulite\n"
          ]
        },
        {
          "output_type": "display_data",
          "data": {
            "image/png": "[encoded data removed]",
            "text/plain": [
              "<Figure size 432x288 with 1 Axes>"
            ]
          },
          "metadata": {
            "needs_background": "light"
          }
        },
        {
          "output_type": "stream",
          "name": "stdout",
          "text": [
            "Predicted :-  Lazulite\n",
            "Actual :-  Lazulite\n"
          ]
        },
        {
          "output_type": "display_data",
          "data": {
            "image/png": "[encoded data removed]",
            "text/plain": [
              "<Figure size 432x288 with 1 Axes>"
            ]
          },
          "metadata": {
            "needs_background": "light"
          }
        },
        {
          "output_type": "stream",
          "name": "stdout",
          "text": [
            "Predicted :-  Lazulite\n",
            "Actual :-  Lazulite\n"
          ]
        },
        {
          "output_type": "display_data",
          "data": {
            "image/png": "[encoded data removed]",
            "text/plain": [
              "<Figure size 432x288 with 1 Axes>"
            ]
          },
          "metadata": {
            "needs_background": "light"
          }
        }
      ]
    }
  ],
  "metadata": {
    "colab": {
      "collapsed_sections": [],
      "name": "API_2_classes_desbalanceadas_Fit.ipynb",
      "provenance": []
    },
    "kernelspec": {
      "display_name": "Python 3",
      "language": "python",
      "name": "python3"
    },
    "language_info": {
      "codemirror_mode": {
        "name": "ipython",
        "version": 3
      },
      "file_extension": ".py",
      "mimetype": "text/x-python",
      "name": "python",
      "nbconvert_exporter": "python",
      "pygments_lexer": "ipython3",
      "version": "3.8.8"
    }
  },
  "nbformat": 4,
  "nbformat_minor": 0
}